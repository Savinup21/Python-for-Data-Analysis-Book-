{
 "cells": [
  {
   "cell_type": "markdown",
   "id": "c6b61c8d",
   "metadata": {},
   "source": [
    "**Exercise  1**"
   ]
  },
  {
   "cell_type": "code",
   "execution_count": null,
   "id": "3ed6076d",
   "metadata": {},
   "outputs": [],
   "source": [
    "def square(x):\n",
    "    return x**2\n",
    "square(2)"
   ]
  },
  {
   "cell_type": "markdown",
   "id": "67c6b63a",
   "metadata": {},
   "source": [
    "**Exercise 2**"
   ]
  },
  {
   "cell_type": "code",
   "execution_count": null,
   "id": "ce7b731e",
   "metadata": {},
   "outputs": [],
   "source": [
    "def greeting(name, greeting=\"Hello\"):\n",
    "    return f\"{greeting} {name}\"\n",
    "greeting(\"Savinu\", \"Hi\")"
   ]
  },
  {
   "cell_type": "markdown",
   "id": "f7fa5881",
   "metadata": {},
   "source": [
    "**Exercise 3**"
   ]
  },
  {
   "cell_type": "code",
   "execution_count": null,
   "id": "4a2d409b",
   "metadata": {},
   "outputs": [],
   "source": [
    "import numpy as np\n",
    "def min_max_avg(nums):\n",
    "    return (min(nums), max(nums), np.mean(nums))\n",
    "nums = [10, 5, 20, 15]\n",
    "min_max_avg(nums)"
   ]
  },
  {
   "cell_type": "markdown",
   "id": "8c4eb8f5",
   "metadata": {},
   "source": [
    "**Exercise 4**"
   ]
  },
  {
   "cell_type": "code",
   "execution_count": null,
   "id": "5ced43d6",
   "metadata": {},
   "outputs": [],
   "source": [
    "def no_duplicates(lst):\n",
    "    return list(set(lst))\n",
    "duplicates = [1, 2, 2, 3, 4, 4, 5]\n",
    "no_duplicates(duplicates)"
   ]
  },
  {
   "cell_type": "markdown",
   "id": "00520d50",
   "metadata": {},
   "source": [
    "**Exercise 5**"
   ]
  },
  {
   "cell_type": "code",
   "execution_count": null,
   "id": "a6843ca9",
   "metadata": {},
   "outputs": [],
   "source": [
    "is_even = lambda x : x % 2 == 0\n",
    "is_even(2)"
   ]
  },
  {
   "cell_type": "markdown",
   "id": "2a9b7fe9",
   "metadata": {},
   "source": [
    "**Exercise 6**"
   ]
  },
  {
   "cell_type": "code",
   "execution_count": null,
   "id": "3f4a2a37",
   "metadata": {},
   "outputs": [],
   "source": [
    "def apply_twice(func, value):\n",
    "    return func(func(value))\n",
    "def add_five(x):\n",
    "    return x + 5\n",
    "\n",
    "\n",
    "apply_twice(add_five, 10)"
   ]
  },
  {
   "cell_type": "markdown",
   "id": "0b856230",
   "metadata": {},
   "source": [
    "**Exercise 7**"
   ]
  },
  {
   "cell_type": "code",
   "execution_count": null,
   "id": "78627769",
   "metadata": {},
   "outputs": [],
   "source": [
    "def total_sum(*nums):\n",
    "    total = 0\n",
    "    for x in nums:\n",
    "        total += x\n",
    "    return total \n",
    "total_sum(1, 2, 3)"
   ]
  },
  {
   "cell_type": "markdown",
   "id": "121e6bda",
   "metadata": {},
   "source": [
    "**Exercise 8**"
   ]
  },
  {
   "cell_type": "code",
   "execution_count": null,
   "id": "100cb15c",
   "metadata": {},
   "outputs": [],
   "source": [
    "def print_info(*people):\n",
    "    name, age, city = people\n",
    "    return {'Name' : name, \"Age\" : age, 'City' : city}\n",
    "\n",
    "print_info(\"Savinu\", 14, \"Rockaway\")"
   ]
  },
  {
   "cell_type": "markdown",
   "id": "1ce22bda",
   "metadata": {},
   "source": [
    "**Exercise 9**"
   ]
  },
  {
   "cell_type": "code",
   "execution_count": null,
   "id": "610b6ad4",
   "metadata": {},
   "outputs": [],
   "source": [
    "def word_count(text):\n",
    "    words = text.split()  \n",
    "    \n",
    "    keys1 = set(words)\n",
    "\n",
    "    frequency = {}\n",
    "    for word in keys1:\n",
    "        frequency[word] = 0\n",
    "    for word in words:\n",
    "        frequency[word] += 1\n",
    "    return frequency\n",
    "\n",
    "text1 = \"this is a test this is only a test\"\n",
    "print(word_count(text1))\n"
   ]
  },
  {
   "cell_type": "markdown",
   "id": "9974c257",
   "metadata": {},
   "source": [
    "**Exercise 10**"
   ]
  },
  {
   "cell_type": "code",
   "execution_count": null,
   "id": "903a47e9",
   "metadata": {},
   "outputs": [],
   "source": [
    "def outer(x):\n",
    "    def inner(y):\n",
    "        return x + y\n",
    "    return inner(10)\n",
    "\n",
    "outer(5)\n",
    "    "
   ]
  }
 ],
 "metadata": {
  "kernelspec": {
   "display_name": "Python 3",
   "language": "python",
   "name": "python3"
  },
  "language_info": {
   "codemirror_mode": {
    "name": "ipython",
    "version": 3
   },
   "file_extension": ".py",
   "mimetype": "text/x-python",
   "name": "python",
   "nbconvert_exporter": "python",
   "pygments_lexer": "ipython3",
   "version": "3.10.0"
  }
 },
 "nbformat": 4,
 "nbformat_minor": 5
}
