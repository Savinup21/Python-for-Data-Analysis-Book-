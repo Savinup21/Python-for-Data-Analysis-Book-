{
 "cells": [
  {
   "cell_type": "markdown",
   "id": "a6931308",
   "metadata": {},
   "source": [
    "**Functions**"
   ]
  },
  {
   "cell_type": "code",
   "execution_count": 128,
   "id": "e53e6ebf",
   "metadata": {},
   "outputs": [
    {
     "name": "stdout",
     "output_type": "stream",
     "text": [
      "2\n"
     ]
    }
   ],
   "source": [
    "def myfunction(x, y):\n",
    "    return x + y\n",
    "\n",
    "print(myfunction(1,1))"
   ]
  },
  {
   "cell_type": "markdown",
   "id": "43c07782",
   "metadata": {},
   "source": [
    "A function doesn't need to have a *return* statement"
   ]
  },
  {
   "cell_type": "code",
   "execution_count": 129,
   "id": "fe75ee6e",
   "metadata": {},
   "outputs": [
    {
     "name": "stdout",
     "output_type": "stream",
     "text": [
      "2\n"
     ]
    }
   ],
   "source": [
    "def no_return_function(x, y):\n",
    "    print(x + y)\n",
    "no_return_function(1, 1)"
   ]
  },
  {
   "cell_type": "markdown",
   "id": "9cd49c96",
   "metadata": {},
   "source": [
    "Functions can have optional parameters"
   ]
  },
  {
   "cell_type": "code",
   "execution_count": 130,
   "id": "e3b1e821",
   "metadata": {},
   "outputs": [
    {
     "data": {
      "text/plain": [
       "'Hello jim'"
      ]
     },
     "execution_count": 130,
     "metadata": {},
     "output_type": "execute_result"
    }
   ],
   "source": [
    "def greet_person(name, greeting=\"Hello\"):\n",
    "    return f\"{greeting} {name}\"\n",
    "\n",
    "greet_person(\"jim\")"
   ]
  },
  {
   "cell_type": "code",
   "execution_count": 131,
   "id": "448656e2",
   "metadata": {},
   "outputs": [
    {
     "data": {
      "text/plain": [
       "'Hi jim'"
      ]
     },
     "execution_count": 131,
     "metadata": {},
     "output_type": "execute_result"
    }
   ],
   "source": [
    "greet_person(\"jim\", \"Hi\")"
   ]
  },
  {
   "cell_type": "markdown",
   "id": "f69c6ad0",
   "metadata": {},
   "source": [
    "Even though it is not necessary, it is good practice to specify the optional arguments"
   ]
  },
  {
   "cell_type": "code",
   "execution_count": 132,
   "id": "12253b5c",
   "metadata": {},
   "outputs": [
    {
     "data": {
      "text/plain": [
       "'Hey Jim'"
      ]
     },
     "execution_count": 132,
     "metadata": {},
     "output_type": "execute_result"
    }
   ],
   "source": [
    "greet_person(\"Jim\", greeting=\"Hey\")"
   ]
  },
  {
   "cell_type": "markdown",
   "id": "0ba7bcdf",
   "metadata": {},
   "source": [
    "**Namespaces, Scope and Local Functions**"
   ]
  },
  {
   "cell_type": "markdown",
   "id": "e7a3e46d",
   "metadata": {},
   "source": [
    "When the func() function is called, the list 'a' is created, and has 0-4 appended to it, and after the function is done running, the list is destroyed"
   ]
  },
  {
   "cell_type": "code",
   "execution_count": 133,
   "id": "17b6bbec",
   "metadata": {},
   "outputs": [],
   "source": [
    "def func():\n",
    "    a = []\n",
    "    for i in range(5):\n",
    "        a.append(i)"
   ]
  },
  {
   "cell_type": "markdown",
   "id": "5ff7c87d",
   "metadata": {},
   "source": [
    "But in this case, 'a' is already created, so the function just modifies that list"
   ]
  },
  {
   "cell_type": "code",
   "execution_count": 134,
   "id": "3360c692",
   "metadata": {},
   "outputs": [],
   "source": [
    "a = []"
   ]
  },
  {
   "cell_type": "code",
   "execution_count": 135,
   "id": "41e74300",
   "metadata": {},
   "outputs": [
    {
     "data": {
      "text/plain": [
       "[0, 1, 2, 3, 4]"
      ]
     },
     "execution_count": 135,
     "metadata": {},
     "output_type": "execute_result"
    }
   ],
   "source": [
    "def func():\n",
    "    for i in range(5):\n",
    "        a.append(i)\n",
    "func()\n",
    "a"
   ]
  },
  {
   "cell_type": "markdown",
   "id": "61a3e8f5",
   "metadata": {},
   "source": [
    "**Returning Multiple Values**"
   ]
  },
  {
   "cell_type": "markdown",
   "id": "7fb36427",
   "metadata": {},
   "source": [
    "You can return multiple values the same way you would return a single value"
   ]
  },
  {
   "cell_type": "code",
   "execution_count": 136,
   "id": "6f55202b",
   "metadata": {},
   "outputs": [
    {
     "data": {
      "text/plain": [
       "5"
      ]
     },
     "execution_count": 136,
     "metadata": {},
     "output_type": "execute_result"
    }
   ],
   "source": [
    "def f():\n",
    "    a = 5\n",
    "    b = 6\n",
    "    c = 7\n",
    "    return a, b, c\n",
    "a, b, c = f()\n",
    "a"
   ]
  },
  {
   "cell_type": "markdown",
   "id": "8ed80080",
   "metadata": {},
   "source": [
    "Also, you can assign a variable to a function with multiple return values, and this will create a tuple with the return values inside"
   ]
  },
  {
   "cell_type": "code",
   "execution_count": 137,
   "id": "ca993dc2",
   "metadata": {},
   "outputs": [
    {
     "data": {
      "text/plain": [
       "(5, 6, 7)"
      ]
     },
     "execution_count": 137,
     "metadata": {},
     "output_type": "execute_result"
    }
   ],
   "source": [
    "\n",
    "return_value = f()\n",
    "return_value"
   ]
  },
  {
   "cell_type": "markdown",
   "id": "a8d350d6",
   "metadata": {},
   "source": [
    "You can also potentially adjust the syntax to return different data types, in this case a dictionary"
   ]
  },
  {
   "cell_type": "code",
   "execution_count": 138,
   "id": "44e023e1",
   "metadata": {},
   "outputs": [
    {
     "data": {
      "text/plain": [
       "{'a': 5, 'b': 6, 'c': 7}"
      ]
     },
     "execution_count": 138,
     "metadata": {},
     "output_type": "execute_result"
    }
   ],
   "source": [
    "def f():\n",
    "    a = 5\n",
    "    b = 6\n",
    "    c = 7\n",
    "    return {'a' : a, 'b' : b, 'c' : c}\n",
    "returned_dict = f()\n",
    "returned_dict"
   ]
  },
  {
   "cell_type": "markdown",
   "id": "f21f237b",
   "metadata": {},
   "source": [
    "**Lambda Functions**"
   ]
  },
  {
   "cell_type": "markdown",
   "id": "385fb5eb",
   "metadata": {},
   "source": [
    "Lambda functions are a way of writing functions using only a single line, and the result of it is the return value"
   ]
  },
  {
   "cell_type": "code",
   "execution_count": 139,
   "id": "cfc3c131",
   "metadata": {},
   "outputs": [],
   "source": [
    "def short_function(x):\n",
    "    return x * 2"
   ]
  },
  {
   "cell_type": "code",
   "execution_count": 140,
   "id": "706bcd66",
   "metadata": {},
   "outputs": [],
   "source": [
    "equivalent_function = lambda x : x * 2"
   ]
  },
  {
   "cell_type": "code",
   "execution_count": 141,
   "id": "69159d15",
   "metadata": {},
   "outputs": [
    {
     "data": {
      "text/plain": [
       "10"
      ]
     },
     "execution_count": 141,
     "metadata": {},
     "output_type": "execute_result"
    }
   ],
   "source": [
    "result = equivalent_function(5)\n",
    "result"
   ]
  },
  {
   "cell_type": "code",
   "execution_count": 142,
   "id": "4a5e980a",
   "metadata": {},
   "outputs": [
    {
     "data": {
      "text/plain": [
       "[16, 0, 1, 25, 36]"
      ]
     },
     "execution_count": 142,
     "metadata": {},
     "output_type": "execute_result"
    }
   ],
   "source": [
    "def apply_to_list(some_list, f):\n",
    "    return [f(x) for x in some_list]\n",
    "ints = [4, 0, 1, 5, 6]\n",
    "\n",
    "squared = apply_to_list(ints, lambda x: x **2)\n",
    "squared\n"
   ]
  },
  {
   "cell_type": "markdown",
   "id": "66549b61",
   "metadata": {},
   "source": [
    "**Generators**"
   ]
  },
  {
   "cell_type": "markdown",
   "id": "91169183",
   "metadata": {},
   "source": [
    "Objects are made iterable by using the iterator protocol, for example, iterating through a dictionary would yield the dictionary's keys"
   ]
  },
  {
   "cell_type": "code",
   "execution_count": 143,
   "id": "5c48d337",
   "metadata": {},
   "outputs": [
    {
     "name": "stdout",
     "output_type": "stream",
     "text": [
      "a\n",
      "b\n",
      "c\n"
     ]
    }
   ],
   "source": [
    "dict = {'a' : 1, 'b' : 2, 'c' : 3}\n",
    "for key in dict:\n",
    "    print(key)"
   ]
  },
  {
   "cell_type": "markdown",
   "id": "cd7fa1dd",
   "metadata": {},
   "source": [
    "When '*for key in dict*' is written, the python interpretor first tries to create an iterator out of dict"
   ]
  },
  {
   "cell_type": "code",
   "execution_count": 144,
   "id": "c65ebf50",
   "metadata": {},
   "outputs": [
    {
     "data": {
      "text/plain": [
       "<dict_keyiterator at 0x232b7140e00>"
      ]
     },
     "execution_count": 144,
     "metadata": {},
     "output_type": "execute_result"
    }
   ],
   "source": [
    "dict_iterator = iter(dict)\n",
    "dict_iterator"
   ]
  },
  {
   "cell_type": "markdown",
   "id": "9d65b6e6",
   "metadata": {},
   "source": [
    "An *iterator* is just any object that will yield objects to the python interpreter. You can use built in methods on iterators, like *min(), max()* and *sum()*. You can also use type constructors like *list* and *tuple* "
   ]
  },
  {
   "cell_type": "code",
   "execution_count": 145,
   "id": "2d58b959",
   "metadata": {},
   "outputs": [
    {
     "data": {
      "text/plain": [
       "['a', 'b', 'c']"
      ]
     },
     "execution_count": 145,
     "metadata": {},
     "output_type": "execute_result"
    }
   ],
   "source": [
    "list(dict_iterator)"
   ]
  },
  {
   "cell_type": "markdown",
   "id": "d3bc5fa0",
   "metadata": {},
   "source": [
    "A *generator*  in some ways is similar to writing a function, in the way that its purpose is to create a new iterable object.\n",
    "Whereas normal functions execute and return single values, generators return sequences of multiple values by pausing and resuming the execution of the process every time the generator is used\n"
   ]
  },
  {
   "cell_type": "markdown",
   "id": "4a21da10",
   "metadata": {},
   "source": [
    "You can create a generator by using *yield* instead of *return* in a function"
   ]
  },
  {
   "cell_type": "code",
   "execution_count": 146,
   "id": "5fdb234f",
   "metadata": {},
   "outputs": [],
   "source": [
    "def squares(n=10):\n",
    "    print(f\"Returning squares from 1 to {n ** 2}\")\n",
    "    for i in range(1, n + 1):\n",
    "        yield  i ** 2"
   ]
  },
  {
   "cell_type": "markdown",
   "id": "425a0966",
   "metadata": {},
   "source": [
    "When the generator is called, no code is actually executed"
   ]
  },
  {
   "cell_type": "code",
   "execution_count": 147,
   "id": "daa2b82e",
   "metadata": {},
   "outputs": [
    {
     "data": {
      "text/plain": [
       "<generator object squares at 0x00000232B7170DD0>"
      ]
     },
     "execution_count": 147,
     "metadata": {},
     "output_type": "execute_result"
    }
   ],
   "source": [
    "gen = squares()\n",
    "gen"
   ]
  },
  {
   "cell_type": "markdown",
   "id": "cce6d9fd",
   "metadata": {},
   "source": [
    "But, you actually need to request elements from the generator for the code to be executed"
   ]
  },
  {
   "cell_type": "code",
   "execution_count": 148,
   "id": "04ee99ab",
   "metadata": {},
   "outputs": [
    {
     "name": "stdout",
     "output_type": "stream",
     "text": [
      "Returning squares from 1 to 100\n",
      "1 4 9 16 25 36 49 64 81 100 "
     ]
    }
   ],
   "source": [
    "for x in gen:\n",
    "    print(x, end=\" \")"
   ]
  },
  {
   "cell_type": "markdown",
   "id": "f79ad91d",
   "metadata": {},
   "source": [
    "Note: Since generators output one element at a time instead of outputting a whole list, generators can help save on memory"
   ]
  },
  {
   "cell_type": "markdown",
   "id": "90385e7a",
   "metadata": {},
   "source": [
    "**Generator Expressions**: Another way to make generators"
   ]
  },
  {
   "cell_type": "code",
   "execution_count": 149,
   "id": "1fb22909",
   "metadata": {},
   "outputs": [
    {
     "data": {
      "text/plain": [
       "<generator object <genexpr> at 0x00000232B71467A0>"
      ]
     },
     "execution_count": 149,
     "metadata": {},
     "output_type": "execute_result"
    }
   ],
   "source": [
    "gen = (x ** 2 for x in range(100))\n",
    "gen"
   ]
  },
  {
   "cell_type": "markdown",
   "id": "40e1ea45",
   "metadata": {},
   "source": [
    "This is equivalent to: "
   ]
  },
  {
   "cell_type": "code",
   "execution_count": 150,
   "id": "2c803381",
   "metadata": {},
   "outputs": [],
   "source": [
    "def make_gen():\n",
    "    for x in range(100):\n",
    "        yield x**2\n",
    "gen = make_gen()"
   ]
  },
  {
   "cell_type": "markdown",
   "id": "90678a59",
   "metadata": {},
   "source": [
    "**Itertools Module**"
   ]
  },
  {
   "cell_type": "markdown",
   "id": "ab5ca2d5",
   "metadata": {},
   "source": [
    "The standard library *itertools* has a collection of generators that are used for many common data algos"
   ]
  },
  {
   "cell_type": "markdown",
   "id": "83486f61",
   "metadata": {},
   "source": [
    "In the below code snippet, *groupby* takes a sequence and a function, and groups consecutive elements in the sequence based on the return value of the function"
   ]
  },
  {
   "cell_type": "code",
   "execution_count": 152,
   "id": "6f3a8b83",
   "metadata": {},
   "outputs": [
    {
     "name": "stdout",
     "output_type": "stream",
     "text": [
      "A ['Alan', 'Adam']\n",
      "W ['Wes', 'Will']\n",
      "A ['Albert']\n",
      "S ['Steven']\n"
     ]
    }
   ],
   "source": [
    "import itertools\n",
    "\n",
    "def first_letter(x):\n",
    "    return x[0]\n",
    "\n",
    "names = [\"Alan\", \"Adam\", \"Wes\", \"Will\", \"Albert\", \"Steven\"]\n",
    "for letter, names in itertools.groupby(names, first_letter):\n",
    "    print(letter, list(names))"
   ]
  },
  {
   "cell_type": "markdown",
   "id": "3192303d",
   "metadata": {},
   "source": [
    "**Errors and Exception Handling**"
   ]
  },
  {
   "cell_type": "markdown",
   "id": "3e0505c7",
   "metadata": {},
   "source": [
    "In the below code, the function will try to return the variable x as a float, but if that fails, then it will just return x"
   ]
  },
  {
   "cell_type": "code",
   "execution_count": 153,
   "id": "0f012e56",
   "metadata": {},
   "outputs": [
    {
     "data": {
      "text/plain": [
       "1.2345667"
      ]
     },
     "execution_count": 153,
     "metadata": {},
     "output_type": "execute_result"
    }
   ],
   "source": [
    "def attempt_float(x):\n",
    "    try:\n",
    "        return float(x)\n",
    "    except:\n",
    "        return x\n",
    "    \n",
    "attempt_float('1.2345667')"
   ]
  },
  {
   "cell_type": "code",
   "execution_count": 154,
   "id": "0dafac3b",
   "metadata": {},
   "outputs": [
    {
     "data": {
      "text/plain": [
       "'number'"
      ]
     },
     "execution_count": 154,
     "metadata": {},
     "output_type": "execute_result"
    }
   ],
   "source": [
    "attempt_float('number')"
   ]
  },
  {
   "cell_type": "markdown",
   "id": "3dae86f4",
   "metadata": {},
   "source": [
    "In the above code snippet, the function was not able to turn the string, 'number' into a float, so it just returned 'number'"
   ]
  },
  {
   "cell_type": "code",
   "execution_count": 156,
   "id": "e1216e62",
   "metadata": {},
   "outputs": [
    {
     "ename": "TypeError",
     "evalue": "float() argument must be a string or a real number, not 'tuple'",
     "output_type": "error",
     "traceback": [
      "\u001b[1;31m---------------------------------------------------------------------------\u001b[0m",
      "\u001b[1;31mTypeError\u001b[0m                                 Traceback (most recent call last)",
      "Cell \u001b[1;32mIn[156], line 1\u001b[0m\n\u001b[1;32m----> 1\u001b[0m \u001b[38;5;28;43mfloat\u001b[39;49m\u001b[43m(\u001b[49m\u001b[43m(\u001b[49m\u001b[38;5;241;43m1\u001b[39;49m\u001b[43m,\u001b[49m\u001b[43m \u001b[49m\u001b[38;5;241;43m2\u001b[39;49m\u001b[43m)\u001b[49m\u001b[43m)\u001b[49m\n",
      "\u001b[1;31mTypeError\u001b[0m: float() argument must be a string or a real number, not 'tuple'"
     ]
    }
   ],
   "source": [
    "float((1, 2))"
   ]
  },
  {
   "cell_type": "markdown",
   "id": "2e049c94",
   "metadata": {},
   "source": [
    "But, float can raise other exceptions than ValueError, and in this case it raises TypeError"
   ]
  },
  {
   "cell_type": "code",
   "execution_count": 158,
   "id": "0a1012fc",
   "metadata": {},
   "outputs": [
    {
     "ename": "TypeError",
     "evalue": "float() argument must be a string or a real number, not 'tuple'",
     "output_type": "error",
     "traceback": [
      "\u001b[1;31m---------------------------------------------------------------------------\u001b[0m",
      "\u001b[1;31mTypeError\u001b[0m                                 Traceback (most recent call last)",
      "Cell \u001b[1;32mIn[158], line 7\u001b[0m\n\u001b[0;32m      4\u001b[0m     \u001b[38;5;28;01mexcept\u001b[39;00m \u001b[38;5;167;01mValueError\u001b[39;00m:\n\u001b[0;32m      5\u001b[0m         \u001b[38;5;28;01mreturn\u001b[39;00m x\n\u001b[1;32m----> 7\u001b[0m \u001b[43mattempt_float\u001b[49m\u001b[43m(\u001b[49m\u001b[43m(\u001b[49m\u001b[38;5;241;43m1\u001b[39;49m\u001b[43m,\u001b[49m\u001b[43m \u001b[49m\u001b[38;5;241;43m2\u001b[39;49m\u001b[43m)\u001b[49m\u001b[43m)\u001b[49m\n",
      "Cell \u001b[1;32mIn[158], line 3\u001b[0m, in \u001b[0;36mattempt_float\u001b[1;34m(x)\u001b[0m\n\u001b[0;32m      1\u001b[0m \u001b[38;5;28;01mdef\u001b[39;00m\u001b[38;5;250m \u001b[39m\u001b[38;5;21mattempt_float\u001b[39m(x):\n\u001b[0;32m      2\u001b[0m     \u001b[38;5;28;01mtry\u001b[39;00m:\n\u001b[1;32m----> 3\u001b[0m         \u001b[38;5;28;01mreturn\u001b[39;00m \u001b[38;5;28;43mfloat\u001b[39;49m\u001b[43m(\u001b[49m\u001b[43mx\u001b[49m\u001b[43m)\u001b[49m\n\u001b[0;32m      4\u001b[0m     \u001b[38;5;28;01mexcept\u001b[39;00m \u001b[38;5;167;01mValueError\u001b[39;00m:\n\u001b[0;32m      5\u001b[0m         \u001b[38;5;28;01mreturn\u001b[39;00m x\n",
      "\u001b[1;31mTypeError\u001b[0m: float() argument must be a string or a real number, not 'tuple'"
     ]
    }
   ],
   "source": [
    "def attempt_float(x):\n",
    "    try:\n",
    "        return float(x)\n",
    "    except ValueError:\n",
    "        return x\n",
    "\n",
    "attempt_float((1, 2))"
   ]
  },
  {
   "cell_type": "markdown",
   "id": "f620c07d",
   "metadata": {},
   "source": [
    "This can be solved by using a tuple of exception types instead of a single exception. This allows for catching multiple errors"
   ]
  },
  {
   "cell_type": "code",
   "execution_count": 159,
   "id": "cd060978",
   "metadata": {},
   "outputs": [],
   "source": [
    "def attempt_float(x):\n",
    "    try:\n",
    "        return float(x)\n",
    "    except (TypeError, ValueError):\n",
    "        return x"
   ]
  },
  {
   "cell_type": "markdown",
   "id": "63616d76",
   "metadata": {},
   "source": [
    "In some cases, you might not need to suppress an exception, but instead want some code to be ran regardless if the code in the try block passes"
   ]
  },
  {
   "cell_type": "code",
   "execution_count": 160,
   "id": "96577885",
   "metadata": {},
   "outputs": [
    {
     "ename": "NameError",
     "evalue": "name 'path' is not defined",
     "output_type": "error",
     "traceback": [
      "\u001b[1;31m---------------------------------------------------------------------------\u001b[0m",
      "\u001b[1;31mNameError\u001b[0m                                 Traceback (most recent call last)",
      "Cell \u001b[1;32mIn[160], line 1\u001b[0m\n\u001b[1;32m----> 1\u001b[0m f \u001b[38;5;241m=\u001b[39m \u001b[38;5;28mopen\u001b[39m(\u001b[43mpath\u001b[49m, mode\u001b[38;5;241m=\u001b[39m\u001b[38;5;124m'\u001b[39m\u001b[38;5;124mw\u001b[39m\u001b[38;5;124m'\u001b[39m)\n\u001b[0;32m      2\u001b[0m \u001b[38;5;28;01mtry\u001b[39;00m:\n\u001b[0;32m      3\u001b[0m     write_to_file(f)\n",
      "\u001b[1;31mNameError\u001b[0m: name 'path' is not defined"
     ]
    }
   ],
   "source": [
    "f = open(path, mode='w')\n",
    "try:\n",
    "    write_to_file(f)\n",
    "finally:\n",
    "    f.close()"
   ]
  },
  {
   "cell_type": "markdown",
   "id": "1c53deac",
   "metadata": {},
   "source": [
    "In the above code, the file *f* will always end up getting closed.(That and the bottom code are dummy blocks of code)"
   ]
  },
  {
   "cell_type": "code",
   "execution_count": null,
   "id": "9860a6ce",
   "metadata": {},
   "outputs": [],
   "source": [
    "f = open(path, mode='w')\n",
    "try:\n",
    "    write_to_file(f)\n",
    "except:\n",
    "    print(\"Failed\")\n",
    "else:\n",
    "    print(\"Successful\")\n",
    "finally:\n",
    "    f.close()"
   ]
  },
  {
   "cell_type": "markdown",
   "id": "21fef670",
   "metadata": {},
   "source": [
    "In the above code, the code is only executed if the *try:* block succeeds. This is done using *else*"
   ]
  }
 ],
 "metadata": {
  "kernelspec": {
   "display_name": "Python 3",
   "language": "python",
   "name": "python3"
  },
  "language_info": {
   "codemirror_mode": {
    "name": "ipython",
    "version": 3
   },
   "file_extension": ".py",
   "mimetype": "text/x-python",
   "name": "python",
   "nbconvert_exporter": "python",
   "pygments_lexer": "ipython3",
   "version": "3.10.0"
  }
 },
 "nbformat": 4,
 "nbformat_minor": 5
}
