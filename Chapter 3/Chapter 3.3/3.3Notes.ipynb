{
 "cells": [
  {
   "cell_type": "markdown",
   "id": "158d7a8f",
   "metadata": {},
   "source": [
    "**Files and the Operating System**      "
   ]
  },
  {
   "cell_type": "markdown",
   "id": "e3a72816",
   "metadata": {},
   "source": [
    "You can open a file using the *open()* method:"
   ]
  },
  {
   "cell_type": "code",
   "execution_count": 2,
   "id": "ec7bbf08",
   "metadata": {},
   "outputs": [],
   "source": [
    "path = 'C:/Users/savin\\Coding/Data Analysis/Python for Data Analysis Book/Chapter 3/Chapter 3.3/segismundo.txt'\n",
    "f = open(path, encoding='utf-8')"
   ]
  },
  {
   "cell_type": "markdown",
   "id": "a6dd7297",
   "metadata": {},
   "source": [
    "*Encodings* are the character encoding schemes used to interpret or write text data"
   ]
  },
  {
   "cell_type": "code",
   "execution_count": 4,
   "id": "8064d83c",
   "metadata": {},
   "outputs": [
    {
     "name": "stdout",
     "output_type": "stream",
     "text": [
      "Sueña el rico en su riqueza,\n",
      "\n",
      "que más cuidados le ofrece;\n",
      "\n",
      "\n",
      "\n",
      "sueña el pobre que padece\n",
      "\n",
      "su miseria y su pobreza;\n",
      "\n",
      "\n",
      "\n",
      "sueña el que a medrar empieza,\n",
      "\n",
      "sueña el que afana y pretende,\n",
      "\n",
      "sueña el que agravia y ofende,\n",
      "\n",
      "\n",
      "\n",
      "y en el mundo, en conclusión,\n",
      "\n",
      "todos sueñan lo que son,\n",
      "\n",
      "aunque ninguno lo entiende.\n",
      "\n",
      "\n",
      "\n"
     ]
    }
   ],
   "source": [
    "for line in f:\n",
    "    print(line)"
   ]
  },
  {
   "cell_type": "markdown",
   "id": "491cc788",
   "metadata": {},
   "source": [
    "By default, files are opened in read-only mode, and in this mode, no changes can be made to the contents of the file"
   ]
  },
  {
   "cell_type": "code",
   "execution_count": 7,
   "id": "3f7732c0",
   "metadata": {},
   "outputs": [
    {
     "data": {
      "text/plain": [
       "['Sueña el rico en su riqueza,',\n",
       " 'que más cuidados le ofrece;',\n",
       " '',\n",
       " 'sueña el pobre que padece',\n",
       " 'su miseria y su pobreza;',\n",
       " '',\n",
       " 'sueña el que a medrar empieza,',\n",
       " 'sueña el que afana y pretende,',\n",
       " 'sueña el que agravia y ofende,',\n",
       " '',\n",
       " 'y en el mundo, en conclusión,',\n",
       " 'todos sueñan lo que son,',\n",
       " 'aunque ninguno lo entiende.',\n",
       " '']"
      ]
     },
     "execution_count": 7,
     "metadata": {},
     "output_type": "execute_result"
    }
   ],
   "source": [
    "lines = [x.rstrip() for x in open(path, encoding=\"utf-8\")]\n",
    "lines"
   ]
  },
  {
   "cell_type": "markdown",
   "id": "835b3196",
   "metadata": {},
   "source": [
    "When you are done using a file, it is useful to close it so its contents go back to the OS"
   ]
  },
  {
   "cell_type": "code",
   "execution_count": 8,
   "id": "bfdb8b55",
   "metadata": {},
   "outputs": [],
   "source": [
    "f.close()"
   ]
  },
  {
   "cell_type": "markdown",
   "id": "9c27f4b7",
   "metadata": {},
   "source": [
    "The *with* statement can be used to automaticallly close a file after it is done being used"
   ]
  },
  {
   "cell_type": "code",
   "execution_count": null,
   "id": "301673b9",
   "metadata": {},
   "outputs": [],
   "source": [
    "with open(path, encoding=\"utf-8\") as f:\n",
    "    lines = [x.rstrip() for x in f]"
   ]
  },
  {
   "cell_type": "markdown",
   "id": "95ad0ecf",
   "metadata": {},
   "source": [
    "![alt text](dpevz446q8841.webp)"
   ]
  },
  {
   "cell_type": "markdown",
   "id": "af2160fc",
   "metadata": {},
   "source": [
    "The most used methods for readable files are *read, seek,* and *tell*"
   ]
  },
  {
   "cell_type": "markdown",
   "id": "14898d48",
   "metadata": {},
   "source": [
    "*read* returns a specific number of characters from the file, and this is decided by the number in the parentheses"
   ]
  },
  {
   "cell_type": "code",
   "execution_count": 11,
   "id": "697a7d4a",
   "metadata": {},
   "outputs": [
    {
     "data": {
      "text/plain": [
       "'SueÃ±a el '"
      ]
     },
     "execution_count": 11,
     "metadata": {},
     "output_type": "execute_result"
    }
   ],
   "source": [
    "f1 = open(path)\n",
    "f1.read(10)"
   ]
  },
  {
   "cell_type": "markdown",
   "id": "22d5da3c",
   "metadata": {},
   "source": [
    "*.tell()* tells where the text cursor/pointer's position is. The cursor is represented by something like \"|\""
   ]
  },
  {
   "cell_type": "code",
   "execution_count": 12,
   "id": "0aaa0701",
   "metadata": {},
   "outputs": [
    {
     "data": {
      "text/plain": [
       "10"
      ]
     },
     "execution_count": 12,
     "metadata": {},
     "output_type": "execute_result"
    }
   ],
   "source": [
    "f1.tell()"
   ]
  },
  {
   "cell_type": "markdown",
   "id": "29b4b55c",
   "metadata": {},
   "source": [
    "*.seek()* puts the text curesor at a specific position in the text file"
   ]
  },
  {
   "cell_type": "code",
   "execution_count": 13,
   "id": "7a09afaf",
   "metadata": {},
   "outputs": [
    {
     "data": {
      "text/plain": [
       "3"
      ]
     },
     "execution_count": 13,
     "metadata": {},
     "output_type": "execute_result"
    }
   ],
   "source": [
    "f1.seek(3)"
   ]
  },
  {
   "cell_type": "code",
   "execution_count": 14,
   "id": "ef564042",
   "metadata": {},
   "outputs": [],
   "source": [
    "f1.close()"
   ]
  },
  {
   "cell_type": "markdown",
   "id": "72f2f4e6",
   "metadata": {},
   "source": [
    "To write text to a file, you can use the write or writeline methods"
   ]
  },
  {
   "cell_type": "code",
   "execution_count": 16,
   "id": "c24c72c5",
   "metadata": {},
   "outputs": [],
   "source": [
    "with open('tmp.txt', mode=\"w\") as handle:\n",
    "    handle.writelines(x for x in open(path) if len(x) > 1)"
   ]
  },
  {
   "cell_type": "code",
   "execution_count": 18,
   "id": "9cf82796",
   "metadata": {},
   "outputs": [
    {
     "data": {
      "text/plain": [
       "['SueÃ±a el rico en su riqueza,\\n',\n",
       " 'que mÃ¡s cuidados le ofrece;\\n',\n",
       " 'sueÃ±a el pobre que padece\\n',\n",
       " 'su miseria y su pobreza;\\n',\n",
       " 'sueÃ±a el que a medrar empieza,\\n',\n",
       " 'sueÃ±a el que afana y pretende,\\n',\n",
       " 'sueÃ±a el que agravia y ofende,\\n',\n",
       " 'y en el mundo, en conclusiÃ³n,\\n',\n",
       " 'todos sueÃ±an lo que son,\\n',\n",
       " 'aunque ninguno lo entiende.\\n']"
      ]
     },
     "execution_count": 18,
     "metadata": {},
     "output_type": "execute_result"
    }
   ],
   "source": [
    "with open('tmp.txt') as p:\n",
    "    lines = p.readlines()\n",
    "lines"
   ]
  }
 ],
 "metadata": {
  "kernelspec": {
   "display_name": "Python 3",
   "language": "python",
   "name": "python3"
  },
  "language_info": {
   "codemirror_mode": {
    "name": "ipython",
    "version": 3
   },
   "file_extension": ".py",
   "mimetype": "text/x-python",
   "name": "python",
   "nbconvert_exporter": "python",
   "pygments_lexer": "ipython3",
   "version": "3.10.0"
  }
 },
 "nbformat": 4,
 "nbformat_minor": 5
}
