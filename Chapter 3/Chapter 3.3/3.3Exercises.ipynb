{
 "cells": [
  {
   "cell_type": "markdown",
   "id": "f7a8e07a",
   "metadata": {},
   "source": [
    "**Exercise 1: Create a new text file named sample.txt and write the text \"Hello, World!\" into it.**"
   ]
  },
  {
   "cell_type": "code",
   "execution_count": 1,
   "id": "4dc71c22",
   "metadata": {},
   "outputs": [
    {
     "data": {
      "text/plain": [
       "<_io.TextIOWrapper name='sample.txt' mode='x' encoding='cp1252'>"
      ]
     },
     "execution_count": 1,
     "metadata": {},
     "output_type": "execute_result"
    }
   ],
   "source": [
    "open('sample.txt', 'x')"
   ]
  },
  {
   "cell_type": "code",
   "execution_count": 2,
   "id": "5ba11be0",
   "metadata": {},
   "outputs": [],
   "source": [
    "hello = open('sample.txt', 'w')"
   ]
  },
  {
   "cell_type": "code",
   "execution_count": 3,
   "id": "0f0f30ac",
   "metadata": {},
   "outputs": [
    {
     "data": {
      "text/plain": [
       "12"
      ]
     },
     "execution_count": 3,
     "metadata": {},
     "output_type": "execute_result"
    }
   ],
   "source": [
    "hello.write(\"Hello World\\n\")"
   ]
  },
  {
   "cell_type": "code",
   "execution_count": 4,
   "id": "565eb261",
   "metadata": {},
   "outputs": [],
   "source": [
    "hello.close()"
   ]
  },
  {
   "cell_type": "markdown",
   "id": "cd5a395c",
   "metadata": {},
   "source": [
    "**Exercise 2: Read the contents of sample.txt and print them to the console.**"
   ]
  },
  {
   "cell_type": "code",
   "execution_count": 5,
   "id": "040a6e8a",
   "metadata": {},
   "outputs": [],
   "source": [
    "path = 'C:/Users/savin/Coding/Data Analysis/Python for Data Analysis Book/Chapter 3/Chapter 3.3/sample.txt'"
   ]
  },
  {
   "cell_type": "code",
   "execution_count": 6,
   "id": "71515da2",
   "metadata": {},
   "outputs": [
    {
     "data": {
      "text/plain": [
       "['Hello World\\n']"
      ]
     },
     "execution_count": 6,
     "metadata": {},
     "output_type": "execute_result"
    }
   ],
   "source": [
    "read_contents = open('sample.txt', 'r')  \n",
    "read_contents.readlines()"
   ]
  },
  {
   "cell_type": "markdown",
   "id": "50d597e7",
   "metadata": {},
   "source": [
    "**Exercise 3: Append the line \"This is an extra line.\" to sample.txt without overwriting existing content.**"
   ]
  },
  {
   "cell_type": "code",
   "execution_count": 7,
   "id": "ec359fe7",
   "metadata": {},
   "outputs": [],
   "source": [
    "with open(path, 'a') as writeto:\n",
    "    writeto.write('This is an extra line')"
   ]
  },
  {
   "cell_type": "markdown",
   "id": "b3a75362",
   "metadata": {},
   "source": [
    "**Exercise 4: Use a with statement to open sample.txt and read all lines into a list. Print the list.**"
   ]
  },
  {
   "cell_type": "code",
   "execution_count": 8,
   "id": "97fc6fd0",
   "metadata": {},
   "outputs": [
    {
     "data": {
      "text/plain": [
       "['Hello World\\n', 'This is an extra line']"
      ]
     },
     "execution_count": 8,
     "metadata": {},
     "output_type": "execute_result"
    }
   ],
   "source": [
    "readl1nes = open(path, 'r') \n",
    "lines = readl1nes.readlines()\n",
    "lines"
   ]
  },
  {
   "cell_type": "markdown",
   "id": "b879e1b1",
   "metadata": {},
   "source": [
    "**Exercise 5: Check if the file sample.txt exists in the current directory using the os module.**"
   ]
  },
  {
   "cell_type": "code",
   "execution_count": 9,
   "id": "ac697bb0",
   "metadata": {},
   "outputs": [
    {
     "data": {
      "text/plain": [
       "True"
      ]
     },
     "execution_count": 9,
     "metadata": {},
     "output_type": "execute_result"
    }
   ],
   "source": [
    "import os\n",
    "os.path.exists(path)"
   ]
  },
  {
   "cell_type": "markdown",
   "id": "f6c9403c",
   "metadata": {},
   "source": [
    "**Exercise 6: Use the os module to print the current working directory.**"
   ]
  },
  {
   "cell_type": "code",
   "execution_count": 10,
   "id": "88b8794b",
   "metadata": {},
   "outputs": [
    {
     "data": {
      "text/plain": [
       "'c:\\\\Users\\\\savin\\\\Coding\\\\Data Analysis\\\\Python for Data Analysis Book\\\\Chapter 3\\\\Chapter 3.3'"
      ]
     },
     "execution_count": 10,
     "metadata": {},
     "output_type": "execute_result"
    }
   ],
   "source": [
    "os.getcwd()"
   ]
  },
  {
   "cell_type": "markdown",
   "id": "86f2541c",
   "metadata": {},
   "source": [
    "**Exercise 7: Create a new folder named test_folder in the current directory using the os module.**"
   ]
  },
  {
   "cell_type": "code",
   "execution_count": 11,
   "id": "58397067",
   "metadata": {},
   "outputs": [],
   "source": [
    "os.mkdir('test folder')"
   ]
  },
  {
   "cell_type": "markdown",
   "id": "0deca01d",
   "metadata": {},
   "source": [
    "**Exercise 8: List all files and folders in the current directory using the os module.**"
   ]
  },
  {
   "cell_type": "code",
   "execution_count": 12,
   "id": "e2d42be2",
   "metadata": {},
   "outputs": [
    {
     "data": {
      "text/plain": [
       "['.vscode', 'Chapter 3.1', 'Chapter 3.2', 'Chapter 3.3']"
      ]
     },
     "execution_count": 12,
     "metadata": {},
     "output_type": "execute_result"
    }
   ],
   "source": [
    "os.listdir('C:/Users/savin/Coding/Data Analysis/Python for Data Analysis Book/Chapter 3/')"
   ]
  },
  {
   "cell_type": "markdown",
   "id": "7132f3d5",
   "metadata": {},
   "source": [
    "**Exercise 9: Rename sample.txt to renamed_sample.txt using the os module.**"
   ]
  },
  {
   "cell_type": "code",
   "execution_count": null,
   "id": "ef09553a",
   "metadata": {},
   "outputs": [],
   "source": [
    "os.rename('sample.txt', 'renamed_sample.txt') "
   ]
  },
  {
   "cell_type": "markdown",
   "id": "d6524ce0",
   "metadata": {},
   "source": [
    "**Exercise 10: Delete the file renamed_sample.txt and remove the folder test_folder using the os module.**"
   ]
  },
  {
   "cell_type": "code",
   "execution_count": null,
   "id": "af24cf0a",
   "metadata": {},
   "outputs": [],
   "source": [
    "os.remove('renamed_sample.txt')\n",
    "os.rmdir('test folder')"
   ]
  }
 ],
 "metadata": {
  "kernelspec": {
   "display_name": "Python 3",
   "language": "python",
   "name": "python3"
  },
  "language_info": {
   "codemirror_mode": {
    "name": "ipython",
    "version": 3
   },
   "file_extension": ".py",
   "mimetype": "text/x-python",
   "name": "python",
   "nbconvert_exporter": "python",
   "pygments_lexer": "ipython3",
   "version": "3.10.0"
  }
 },
 "nbformat": 4,
 "nbformat_minor": 5
}
