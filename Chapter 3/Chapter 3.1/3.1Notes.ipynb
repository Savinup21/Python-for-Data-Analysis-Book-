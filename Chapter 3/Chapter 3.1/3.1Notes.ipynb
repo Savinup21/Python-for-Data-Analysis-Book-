{
 "cells": [
  {
   "cell_type": "markdown",
   "id": "c940e343",
   "metadata": {},
   "source": [
    "**Built-In Data Structures, Functions, and Files**"
   ]
  },
  {
   "cell_type": "markdown",
   "id": "8619ae61",
   "metadata": {},
   "source": [
    "**Tuples**"
   ]
  },
  {
   "cell_type": "markdown",
   "id": "1f3d21ee",
   "metadata": {},
   "source": [
    "A tuple is a fixed-length immutable sequence of python Objects that which once assigned, cannot be changed"
   ]
  },
  {
   "cell_type": "code",
   "execution_count": 1,
   "id": "5894a21e",
   "metadata": {},
   "outputs": [],
   "source": [
    "tuple1 = (4, 5, 6)"
   ]
  },
  {
   "cell_type": "markdown",
   "id": "eb0ecf48",
   "metadata": {},
   "source": [
    "Most of the time, the parentheses can be removed\n"
   ]
  },
  {
   "cell_type": "code",
   "execution_count": 2,
   "id": "8f487e89",
   "metadata": {},
   "outputs": [
    {
     "data": {
      "text/plain": [
       "tuple"
      ]
     },
     "execution_count": 2,
     "metadata": {},
     "output_type": "execute_result"
    }
   ],
   "source": [
    "tup = 5, [6, 7], 8\n",
    "type(tup)\n"
   ]
  },
  {
   "cell_type": "markdown",
   "id": "b4cac4f5",
   "metadata": {},
   "source": [
    "Any sequence or iterator can become a tuple by using tuple\n"
   ]
  },
  {
   "cell_type": "code",
   "execution_count": 3,
   "id": "211ce3d7",
   "metadata": {},
   "outputs": [
    {
     "data": {
      "text/plain": [
       "tuple"
      ]
     },
     "execution_count": 3,
     "metadata": {},
     "output_type": "execute_result"
    }
   ],
   "source": [
    "type(tuple([5, 6, 7]))"
   ]
  },
  {
   "cell_type": "markdown",
   "id": "8e3e7043",
   "metadata": {},
   "source": [
    "Individual elements in tuples can be accessed using square brackets\n"
   ]
  },
  {
   "cell_type": "code",
   "execution_count": 4,
   "id": "f39e67fb",
   "metadata": {},
   "outputs": [
    {
     "data": {
      "text/plain": [
       "5"
      ]
     },
     "execution_count": 4,
     "metadata": {},
     "output_type": "execute_result"
    }
   ],
   "source": [
    "tup[0]"
   ]
  },
  {
   "cell_type": "markdown",
   "id": "3af96578",
   "metadata": {},
   "source": [
    "The tuple itself is immutable, buit the elements inside it are not\n"
   ]
  },
  {
   "cell_type": "code",
   "execution_count": 5,
   "id": "e38f924d",
   "metadata": {},
   "outputs": [
    {
     "data": {
      "text/plain": [
       "(5, [6, 7, 4], 8)"
      ]
     },
     "execution_count": 5,
     "metadata": {},
     "output_type": "execute_result"
    }
   ],
   "source": [
    "tup[1].append(4)\n",
    "tup"
   ]
  },
  {
   "cell_type": "markdown",
   "id": "e5a0b529",
   "metadata": {},
   "source": [
    "You can concatenate, or add tuples together\n"
   ]
  },
  {
   "cell_type": "code",
   "execution_count": 6,
   "id": "47964698",
   "metadata": {},
   "outputs": [
    {
     "data": {
      "text/plain": [
       "(4, 5, 6, 5, [6, 7, 4], 8)"
      ]
     },
     "execution_count": 6,
     "metadata": {},
     "output_type": "execute_result"
    }
   ],
   "source": [
    "tuple1 + tup"
   ]
  },
  {
   "cell_type": "markdown",
   "id": "c08ea91a",
   "metadata": {},
   "source": [
    "Unpacking Tuples"
   ]
  },
  {
   "cell_type": "code",
   "execution_count": 7,
   "id": "1561942c",
   "metadata": {},
   "outputs": [
    {
     "data": {
      "text/plain": [
       "4"
      ]
     },
     "execution_count": 7,
     "metadata": {},
     "output_type": "execute_result"
    }
   ],
   "source": [
    "tup = (4, 5, 6)\n",
    "a, b, c = tup\n",
    "a"
   ]
  },
  {
   "cell_type": "markdown",
   "id": "252b0e0d",
   "metadata": {},
   "source": [
    "Tuple Methods"
   ]
  },
  {
   "cell_type": "code",
   "execution_count": 8,
   "id": "921417b6",
   "metadata": {},
   "outputs": [
    {
     "data": {
      "text/plain": [
       "1"
      ]
     },
     "execution_count": 8,
     "metadata": {},
     "output_type": "execute_result"
    }
   ],
   "source": [
    "tup.count(4)"
   ]
  },
  {
   "cell_type": "markdown",
   "id": "32a9b814",
   "metadata": {},
   "source": [
    "**Lists**"
   ]
  },
  {
   "cell_type": "code",
   "execution_count": 9,
   "id": "d0ba0a5e",
   "metadata": {},
   "outputs": [],
   "source": [
    "list1 = [1, 2, 3, '4']"
   ]
  },
  {
   "cell_type": "markdown",
   "id": "9d83d531",
   "metadata": {},
   "source": [
    "You can navigate lists in the same way as tuples"
   ]
  },
  {
   "cell_type": "code",
   "execution_count": 10,
   "id": "032fabde",
   "metadata": {},
   "outputs": [
    {
     "data": {
      "text/plain": [
       "1"
      ]
     },
     "execution_count": 10,
     "metadata": {},
     "output_type": "execute_result"
    }
   ],
   "source": [
    "list1[0]"
   ]
  },
  {
   "cell_type": "markdown",
   "id": "40651cd5",
   "metadata": {},
   "source": [
    "You can use *list()* to convert many structures into lists"
   ]
  },
  {
   "cell_type": "code",
   "execution_count": 11,
   "id": "3e080b58",
   "metadata": {},
   "outputs": [
    {
     "data": {
      "text/plain": [
       "range(1, 10)"
      ]
     },
     "execution_count": 11,
     "metadata": {},
     "output_type": "execute_result"
    }
   ],
   "source": [
    "gen = range(1, 10)\n",
    "gen"
   ]
  },
  {
   "cell_type": "code",
   "execution_count": 12,
   "id": "aacebeff",
   "metadata": {},
   "outputs": [
    {
     "data": {
      "text/plain": [
       "[1, 2, 3, 4, 5, 6, 7, 8, 9]"
      ]
     },
     "execution_count": 12,
     "metadata": {},
     "output_type": "execute_result"
    }
   ],
   "source": [
    "gen = list(gen)\n",
    "gen"
   ]
  },
  {
   "cell_type": "markdown",
   "id": "93091943",
   "metadata": {},
   "source": [
    "Adding and removing elements"
   ]
  },
  {
   "cell_type": "markdown",
   "id": "0c96bcd6",
   "metadata": {},
   "source": [
    "*.append()* just adds the specified element to the end of the list/data structure"
   ]
  },
  {
   "cell_type": "code",
   "execution_count": 13,
   "id": "236cd67c",
   "metadata": {},
   "outputs": [
    {
     "data": {
      "text/plain": [
       "[1, 2, 3, '4', 5]"
      ]
     },
     "execution_count": 13,
     "metadata": {},
     "output_type": "execute_result"
    }
   ],
   "source": [
    "list1.append(5)\n",
    "list1"
   ]
  },
  {
   "cell_type": "markdown",
   "id": "07c01d9d",
   "metadata": {},
   "source": [
    "*.insert()* is used to add an element to a specific place in the list, and this uses indexes, but this can be time intensive in some cases"
   ]
  },
  {
   "cell_type": "code",
   "execution_count": 14,
   "id": "20512c5b",
   "metadata": {},
   "outputs": [
    {
     "data": {
      "text/plain": [
       "[1, 'insertedto2nd', 2, 3, '4', 5]"
      ]
     },
     "execution_count": 14,
     "metadata": {},
     "output_type": "execute_result"
    }
   ],
   "source": [
    "list1.insert(1, \"insertedto2nd\")\n",
    "list1"
   ]
  },
  {
   "cell_type": "markdown",
   "id": "4e27da69",
   "metadata": {},
   "source": [
    "The opposite of insert is *.pop()*, and it removes and returns an element at a specific index"
   ]
  },
  {
   "cell_type": "code",
   "execution_count": 15,
   "id": "1c9976bf",
   "metadata": {},
   "outputs": [
    {
     "data": {
      "text/plain": [
       "'insertedto2nd'"
      ]
     },
     "execution_count": 15,
     "metadata": {},
     "output_type": "execute_result"
    }
   ],
   "source": [
    "list1.pop(1)"
   ]
  },
  {
   "cell_type": "code",
   "execution_count": 16,
   "id": "143298a0",
   "metadata": {},
   "outputs": [
    {
     "data": {
      "text/plain": [
       "2"
      ]
     },
     "execution_count": 16,
     "metadata": {},
     "output_type": "execute_result"
    }
   ],
   "source": [
    "x = list1.pop(1)\n",
    "x"
   ]
  },
  {
   "cell_type": "code",
   "execution_count": 17,
   "id": "75c3aada",
   "metadata": {},
   "outputs": [
    {
     "data": {
      "text/plain": [
       "[1, 3, '4', 5]"
      ]
     },
     "execution_count": 17,
     "metadata": {},
     "output_type": "execute_result"
    }
   ],
   "source": [
    "list1"
   ]
  },
  {
   "cell_type": "code",
   "execution_count": 18,
   "id": "68f4ef15",
   "metadata": {},
   "outputs": [],
   "source": [
    "#To get the list back for further work: \n",
    "list1 = [1, 2, 3, 4]"
   ]
  },
  {
   "cell_type": "markdown",
   "id": "93f2c585",
   "metadata": {},
   "source": [
    "**Concatenating/Combining Lists**"
   ]
  },
  {
   "cell_type": "code",
   "execution_count": 19,
   "id": "85e1d022",
   "metadata": {},
   "outputs": [
    {
     "data": {
      "text/plain": [
       "[1, 2, 3, 4, 5, 6]"
      ]
     },
     "execution_count": 19,
     "metadata": {},
     "output_type": "execute_result"
    }
   ],
   "source": [
    "[1, 2, 3] + [4, 5, 6]"
   ]
  },
  {
   "cell_type": "markdown",
   "id": "35cf3a8f",
   "metadata": {},
   "source": [
    "If a list is already defined, multiple elements can be added to it using *.extend()*\n"
   ]
  },
  {
   "cell_type": "code",
   "execution_count": 20,
   "id": "1af14642",
   "metadata": {},
   "outputs": [
    {
     "data": {
      "text/plain": [
       "[1, 2, 3, 4, 9, 7, 5, 8, 6]"
      ]
     },
     "execution_count": 20,
     "metadata": {},
     "output_type": "execute_result"
    }
   ],
   "source": [
    "list1.extend([9, 7, 5, 8, 6])\n",
    "list1"
   ]
  },
  {
   "cell_type": "markdown",
   "id": "ad0d9f1b",
   "metadata": {},
   "source": [
    "Lists can be sorted in place using *.sort()*, without making an entirely new list"
   ]
  },
  {
   "cell_type": "code",
   "execution_count": 21,
   "id": "faa6af31",
   "metadata": {},
   "outputs": [
    {
     "data": {
      "text/plain": [
       "[1, 2, 3, 4, 5, 6, 7, 8, 9]"
      ]
     },
     "execution_count": 21,
     "metadata": {},
     "output_type": "execute_result"
    }
   ],
   "source": [
    "list1.sort()\n",
    "list1"
   ]
  },
  {
   "cell_type": "markdown",
   "id": "89eb7874",
   "metadata": {},
   "source": [
    "However the *.sort()* function has a few different secondary sort keys that can be passed for different results"
   ]
  },
  {
   "cell_type": "code",
   "execution_count": 22,
   "id": "6041734f",
   "metadata": {},
   "outputs": [
    {
     "data": {
      "text/plain": [
       "['he', 'saw', 'six', 'small', 'foxes', 'tonight']"
      ]
     },
     "execution_count": 22,
     "metadata": {},
     "output_type": "execute_result"
    }
   ],
   "source": [
    "b = ['small', 'saw', 'tonight', 'he', 'foxes', 'six']\n",
    "b.sort(key=len)\n",
    "b"
   ]
  },
  {
   "cell_type": "markdown",
   "id": "d2761de7",
   "metadata": {},
   "source": [
    "**Slicing**"
   ]
  },
  {
   "cell_type": "markdown",
   "id": "b46bfa6f",
   "metadata": {},
   "source": [
    "You can use slicing to select sections of most data types"
   ]
  },
  {
   "cell_type": "code",
   "execution_count": 23,
   "id": "d4bbfb65",
   "metadata": {},
   "outputs": [
    {
     "data": {
      "text/plain": [
       "[1, 2, 3, 4, 5]"
      ]
     },
     "execution_count": 23,
     "metadata": {},
     "output_type": "execute_result"
    }
   ],
   "source": [
    "seq = [1, 2, 3, 4, 5, 6, 7, 8]\n",
    "seq[0:5]"
   ]
  },
  {
   "cell_type": "markdown",
   "id": "4acbe6e6",
   "metadata": {},
   "source": [
    "You can also use slicing to assign values to sequences "
   ]
  },
  {
   "cell_type": "code",
   "execution_count": 24,
   "id": "59357010",
   "metadata": {},
   "outputs": [
    {
     "data": {
      "text/plain": [
       "[5, 4, 3, 2, 1, 6, 7, 8]"
      ]
     },
     "execution_count": 24,
     "metadata": {},
     "output_type": "execute_result"
    }
   ],
   "source": [
    "seq[0:5] = [5, 4, 3, 2, 1]\n",
    "seq"
   ]
  },
  {
   "cell_type": "markdown",
   "id": "c5e7b4ba",
   "metadata": {},
   "source": [
    "A step can be used in slicing , and some examples are getting every other element"
   ]
  },
  {
   "cell_type": "code",
   "execution_count": 25,
   "id": "ca97833e",
   "metadata": {},
   "outputs": [
    {
     "data": {
      "text/plain": [
       "[5, 3, 1, 7]"
      ]
     },
     "execution_count": 25,
     "metadata": {},
     "output_type": "execute_result"
    }
   ],
   "source": [
    "seq[::2]"
   ]
  },
  {
   "cell_type": "markdown",
   "id": "a3ffa06f",
   "metadata": {},
   "source": [
    "or reversing the list entirely"
   ]
  },
  {
   "cell_type": "code",
   "execution_count": 26,
   "id": "1fa27edd",
   "metadata": {},
   "outputs": [
    {
     "data": {
      "text/plain": [
       "[8, 7, 6, 1, 2, 3, 4, 5]"
      ]
     },
     "execution_count": 26,
     "metadata": {},
     "output_type": "execute_result"
    }
   ],
   "source": [
    "seq[::-1]"
   ]
  },
  {
   "cell_type": "markdown",
   "id": "133ccd9b",
   "metadata": {},
   "source": [
    "**Dictionaries**"
   ]
  },
  {
   "cell_type": "code",
   "execution_count": 27,
   "id": "f9d7e314",
   "metadata": {},
   "outputs": [
    {
     "data": {
      "text/plain": [
       "{'a': 'a value', 'b': [1, 2, 3, 4, 5]}"
      ]
     },
     "execution_count": 27,
     "metadata": {},
     "output_type": "execute_result"
    }
   ],
   "source": [
    "empty_dict = {}\n",
    "dict1 = {'a' : 'a value', \"b\" : [1, 2, 3, 4, 5]}\n",
    "dict1"
   ]
  },
  {
   "cell_type": "markdown",
   "id": "030a94ca",
   "metadata": {},
   "source": [
    "Dictionary elements can be inserted, accessed, or set in a similar way of a list or tuple"
   ]
  },
  {
   "cell_type": "code",
   "execution_count": 28,
   "id": "e75880cc",
   "metadata": {},
   "outputs": [
    {
     "data": {
      "text/plain": [
       "{'a': 'a value', 'b': [1, 2, 3, 4, 5], 7: 'An Integer'}"
      ]
     },
     "execution_count": 28,
     "metadata": {},
     "output_type": "execute_result"
    }
   ],
   "source": [
    "dict1[7] = 'An Integer'\n",
    "dict1"
   ]
  },
  {
   "cell_type": "code",
   "execution_count": 29,
   "id": "d0d51350",
   "metadata": {},
   "outputs": [
    {
     "data": {
      "text/plain": [
       "'An Integer'"
      ]
     },
     "execution_count": 29,
     "metadata": {},
     "output_type": "execute_result"
    }
   ],
   "source": [
    "dict1[7]"
   ]
  },
  {
   "cell_type": "markdown",
   "id": "bcd705c8",
   "metadata": {},
   "source": [
    "You can check if a dictionary has a key using the same syntax as which of checking whether a list or tuple contains an element"
   ]
  },
  {
   "cell_type": "code",
   "execution_count": 30,
   "id": "2133e462",
   "metadata": {},
   "outputs": [
    {
     "data": {
      "text/plain": [
       "True"
      ]
     },
     "execution_count": 30,
     "metadata": {},
     "output_type": "execute_result"
    }
   ],
   "source": [
    "'b' in dict1"
   ]
  },
  {
   "cell_type": "markdown",
   "id": "db937410",
   "metadata": {},
   "source": [
    "Values can be deleted using the **del** keyword\n"
   ]
  },
  {
   "cell_type": "code",
   "execution_count": 31,
   "id": "ef3d010f",
   "metadata": {},
   "outputs": [
    {
     "data": {
      "text/plain": [
       "{'a': 'a value', 'b': [1, 2, 3, 4, 5]}"
      ]
     },
     "execution_count": 31,
     "metadata": {},
     "output_type": "execute_result"
    }
   ],
   "source": [
    "del(dict1[7])\n",
    "dict1"
   ]
  },
  {
   "cell_type": "markdown",
   "id": "f4e67beb",
   "metadata": {},
   "source": [
    "The *.keys()* and the *.values()* methods give you the keys and values of the dictionary in an iterable format"
   ]
  },
  {
   "cell_type": "code",
   "execution_count": 32,
   "id": "1ee333ec",
   "metadata": {},
   "outputs": [
    {
     "data": {
      "text/plain": [
       "['a', 'b']"
      ]
     },
     "execution_count": 32,
     "metadata": {},
     "output_type": "execute_result"
    }
   ],
   "source": [
    "list(dict1.keys())"
   ]
  },
  {
   "cell_type": "code",
   "execution_count": 33,
   "id": "76721f83",
   "metadata": {},
   "outputs": [
    {
     "data": {
      "text/plain": [
       "['a value', [1, 2, 3, 4, 5]]"
      ]
     },
     "execution_count": 33,
     "metadata": {},
     "output_type": "execute_result"
    }
   ],
   "source": [
    "list(dict1.values())"
   ]
  },
  {
   "cell_type": "markdown",
   "id": "807aa6eb",
   "metadata": {},
   "source": [
    "Both the keys and values can be iterated over using the *.items()* method"
   ]
  },
  {
   "cell_type": "code",
   "execution_count": 34,
   "id": "f1729c98",
   "metadata": {},
   "outputs": [
    {
     "data": {
      "text/plain": [
       "[('a', 'a value'), ('b', [1, 2, 3, 4, 5])]"
      ]
     },
     "execution_count": 34,
     "metadata": {},
     "output_type": "execute_result"
    }
   ],
   "source": [
    "list(dict1.items())"
   ]
  },
  {
   "cell_type": "markdown",
   "id": "71dae9eb",
   "metadata": {},
   "source": [
    "Dictionaries can be merged using the *.update()* method"
   ]
  },
  {
   "cell_type": "code",
   "execution_count": 35,
   "id": "d8b3bfe1",
   "metadata": {},
   "outputs": [
    {
     "data": {
      "text/plain": [
       "{'a': 'a value', 'b': [1, 2, 3, 4, 5], 'd': 'valued', 's': 'values'}"
      ]
     },
     "execution_count": 35,
     "metadata": {},
     "output_type": "execute_result"
    }
   ],
   "source": [
    "dict1.update({'d' : 'valued', 's' : 'values'})\n",
    "dict1"
   ]
  },
  {
   "cell_type": "markdown",
   "id": "fbe42e82",
   "metadata": {},
   "source": [
    "Creating dictionaries from sequences"
   ]
  },
  {
   "cell_type": "code",
   "execution_count": 36,
   "id": "2339897d",
   "metadata": {},
   "outputs": [],
   "source": [
    "#This block is an example of how it works\n",
    "mapping = {} \n",
    "key_list = []\n",
    "value_list = []\n",
    "for key, value in zip(key_list, value_list):\n",
    "    mapping[key]  = value"
   ]
  },
  {
   "cell_type": "markdown",
   "id": "613f74ca",
   "metadata": {},
   "source": [
    "The *zip* method takes in 2 eleements and combines them into a two-tuple"
   ]
  },
  {
   "cell_type": "code",
   "execution_count": 37,
   "id": "fa0e86e1",
   "metadata": {},
   "outputs": [
    {
     "ename": "NameError",
     "evalue": "name 'key' is not defined",
     "output_type": "error",
     "traceback": [
      "\u001b[1;31m---------------------------------------------------------------------------\u001b[0m",
      "\u001b[1;31mNameError\u001b[0m                                 Traceback (most recent call last)",
      "Cell \u001b[1;32mIn[37], line 1\u001b[0m\n\u001b[1;32m----> 1\u001b[0m value \u001b[38;5;241m=\u001b[39m dict1\u001b[38;5;241m.\u001b[39mget(\u001b[43mkey\u001b[49m, default_value\u001b[38;5;241m=\u001b[39m\u001b[38;5;241m0\u001b[39m)\n",
      "\u001b[1;31mNameError\u001b[0m: name 'key' is not defined"
     ]
    }
   ],
   "source": [
    "value = dict1.get(key, default_value=0)"
   ]
  },
  {
   "cell_type": "markdown",
   "id": "2fb9c4da",
   "metadata": {},
   "source": [
    "If the *key* is not in the dictionary, usually the variable would get a value of none. To counter this you can use a *default value* which will be returned if the key does not exist, and you can also use *.setdefault()*"
   ]
  },
  {
   "cell_type": "markdown",
   "id": "120bb3d8",
   "metadata": {},
   "source": [
    "If the value is not there in pop, then it will raise an error so that is to be kept in mind"
   ]
  },
  {
   "cell_type": "markdown",
   "id": "df0a7bd5",
   "metadata": {},
   "source": [
    "**Sets**"
   ]
  },
  {
   "cell_type": "markdown",
   "id": "38bb29a2",
   "metadata": {},
   "source": [
    "A set is an unordered collection of unique elements, so there will not be any duplicates"
   ]
  },
  {
   "cell_type": "code",
   "execution_count": null,
   "id": "ea7ec4ff",
   "metadata": {},
   "outputs": [
    {
     "data": {
      "text/plain": [
       "{1, 2, 3}"
      ]
     },
     "execution_count": 4,
     "metadata": {},
     "output_type": "execute_result"
    }
   ],
   "source": [
    "set([1, 2, 3, 3, 2, 1, 2, 3])"
   ]
  },
  {
   "cell_type": "markdown",
   "id": "579db44b",
   "metadata": {},
   "source": [
    "Sets have many operations, like *union*, *intersection*, *difference*, and *symmetric difference*"
   ]
  },
  {
   "cell_type": "code",
   "execution_count": null,
   "id": "98f66d6a",
   "metadata": {},
   "outputs": [],
   "source": [
    "a = {1, 2, 3, 4, 5}\n",
    "b = {3, 4, 5, 6, 7, 8}"
   ]
  },
  {
   "cell_type": "markdown",
   "id": "9878d9ba",
   "metadata": {},
   "source": [
    "Union:\n",
    "These are the unique elements in both sets"
   ]
  },
  {
   "cell_type": "code",
   "execution_count": null,
   "id": "6fa13b63",
   "metadata": {},
   "outputs": [
    {
     "data": {
      "text/plain": [
       "{1, 2, 3, 4, 5, 6, 7, 8}"
      ]
     },
     "execution_count": 7,
     "metadata": {},
     "output_type": "execute_result"
    }
   ],
   "source": [
    "a.union(b)"
   ]
  },
  {
   "cell_type": "markdown",
   "id": "3d8a8b98",
   "metadata": {},
   "source": [
    "#Can also be done by using:\n",
    "a | b"
   ]
  },
  {
   "cell_type": "code",
   "execution_count": null,
   "id": "b7427ce3",
   "metadata": {},
   "outputs": [
    {
     "data": {
      "text/plain": [
       "{1, 2, 3, 4, 5, 6, 7, 8}"
      ]
     },
     "execution_count": 8,
     "metadata": {},
     "output_type": "execute_result"
    }
   ],
   "source": [
    "a | b"
   ]
  },
  {
   "cell_type": "markdown",
   "id": "b2deb2ec",
   "metadata": {},
   "source": [
    "**Basic Python Set Operations**"
   ]
  },
  {
   "cell_type": "code",
   "execution_count": null,
   "id": "e4f235d5",
   "metadata": {},
   "outputs": [],
   "source": [
    "x = 0"
   ]
  },
  {
   "cell_type": "code",
   "execution_count": null,
   "id": "9e54c84b",
   "metadata": {},
   "outputs": [],
   "source": [
    "#Adding an element to set a\n",
    "a.add(x)"
   ]
  },
  {
   "cell_type": "code",
   "execution_count": null,
   "id": "c332e991",
   "metadata": {},
   "outputs": [],
   "source": [
    "#Removing all elements from a set and making it empty\n",
    "a.clear()"
   ]
  },
  {
   "cell_type": "code",
   "execution_count": null,
   "id": "5a3f17fe",
   "metadata": {},
   "outputs": [],
   "source": [
    "#Removing x from set a\n",
    "a.remove(x)"
   ]
  },
  {
   "cell_type": "code",
   "execution_count": null,
   "id": "e46420bb",
   "metadata": {},
   "outputs": [
    {
     "data": {
      "text/plain": [
       "0"
      ]
     },
     "execution_count": 16,
     "metadata": {},
     "output_type": "execute_result"
    }
   ],
   "source": [
    "#Removes an abritrary, or random element from set a\n",
    "a.pop()"
   ]
  },
  {
   "cell_type": "markdown",
   "id": "faa82d19",
   "metadata": {},
   "source": [
    "*ar·bi·trar·y ˈärbəˌtrerē/ adjective, based on random choice or personal whim, rather than any reason or system.*"
   ]
  },
  {
   "cell_type": "code",
   "execution_count": null,
   "id": "b282f183",
   "metadata": {},
   "outputs": [
    {
     "data": {
      "text/plain": [
       "{3, 4, 5, 6, 7, 8}"
      ]
     },
     "execution_count": 17,
     "metadata": {},
     "output_type": "execute_result"
    }
   ],
   "source": [
    "#Gets all the unique elements fromn a and b\\\n",
    "a.union(b)\n",
    "#Alternative syntax:\n",
    "a | b"
   ]
  },
  {
   "cell_type": "markdown",
   "id": "039ef32b",
   "metadata": {},
   "source": [
    "**Built-In Sequence Functions**"
   ]
  },
  {
   "cell_type": "markdown",
   "id": "ba3599d1",
   "metadata": {},
   "source": [
    "*.enumerate()* is used for enumerating through a sequence, and is used when you want to keep track of the index of each item "
   ]
  },
  {
   "cell_type": "code",
   "execution_count": null,
   "id": "2fe8be97",
   "metadata": {},
   "outputs": [
    {
     "name": "stdout",
     "output_type": "stream",
     "text": [
      "Index : 0, Value : 3\n",
      "Index : 1, Value : 5\n",
      "Index : 2, Value : 1\n",
      "Index : 3, Value : 9\n",
      "Index : 4, Value : 6\n",
      "Index : 5, Value : 0\n"
     ]
    }
   ],
   "source": [
    "alist = [3, 5, 1, 9, 6, 0]\n",
    "for index, value in enumerate(alist):\n",
    "    print(f\"Index : {index}, Value : {value}\")"
   ]
  },
  {
   "cell_type": "markdown",
   "id": "a828404d",
   "metadata": {},
   "source": [
    "*sorted()* is used to return a list of sorted elements, and it accepts the same methods used in sort"
   ]
  },
  {
   "cell_type": "code",
   "execution_count": null,
   "id": "6e846b34",
   "metadata": {},
   "outputs": [
    {
     "data": {
      "text/plain": [
       "[1, 2, 4, 4, 5, 7, 7, 9]"
      ]
     },
     "execution_count": 20,
     "metadata": {},
     "output_type": "execute_result"
    },
    {
     "ename": "",
     "evalue": "",
     "output_type": "error",
     "traceback": [
      "\u001b[1;31mThe Kernel crashed while executing code in the current cell or a previous cell. \n",
      "\u001b[1;31mPlease review the code in the cell(s) to identify a possible cause of the failure. \n",
      "\u001b[1;31mClick <a href='https://aka.ms/vscodeJupyterKernelCrash'>here</a> for more info. \n",
      "\u001b[1;31mView Jupyter <a href='command:jupyter.viewOutput'>log</a> for further details."
     ]
    }
   ],
   "source": [
    "sorted([1, 7, 4, 9, 2, 5, 7, 4])"
   ]
  },
  {
   "cell_type": "markdown",
   "id": "5d578eb7",
   "metadata": {},
   "source": [
    "*zip()* takes in 2 elements and combines them into a two-tuple"
   ]
  },
  {
   "cell_type": "code",
   "execution_count": null,
   "id": "fe266cc7",
   "metadata": {},
   "outputs": [],
   "source": [
    "seq1 = []\n",
    "seq2 "
   ]
  }
 ],
 "metadata": {
  "kernelspec": {
   "display_name": "Python 3",
   "language": "python",
   "name": "python3"
  },
  "language_info": {
   "codemirror_mode": {
    "name": "ipython",
    "version": 3
   },
   "file_extension": ".py",
   "mimetype": "text/x-python",
   "name": "python",
   "nbconvert_exporter": "python",
   "pygments_lexer": "ipython3",
   "version": "3.10.0"
  }
 },
 "nbformat": 4,
 "nbformat_minor": 5
}
