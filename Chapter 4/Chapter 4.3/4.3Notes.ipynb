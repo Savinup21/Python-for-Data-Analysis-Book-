{
 "cells": [
  {
   "cell_type": "markdown",
   "id": "58279a85",
   "metadata": {},
   "source": [
    "**4.3 Universal Functions: Fast Element-Wise Array Functions**"
   ]
  },
  {
   "cell_type": "markdown",
   "id": "dbdafac4",
   "metadata": {},
   "source": [
    "An *ufunc* is a function that performs element-wise operations on data in  ndarrays"
   ]
  },
  {
   "cell_type": "code",
   "execution_count": 3,
   "id": "8a951e46",
   "metadata": {},
   "outputs": [
    {
     "data": {
      "text/plain": [
       "array([0, 1, 2, 3, 4, 5, 6, 7, 8, 9])"
      ]
     },
     "execution_count": 3,
     "metadata": {},
     "output_type": "execute_result"
    }
   ],
   "source": [
    "import numpy as np\n",
    "\n",
    "\n",
    "arr = np.arange(10)\n",
    "arr"
   ]
  },
  {
   "cell_type": "code",
   "execution_count": 4,
   "id": "58a40501",
   "metadata": {},
   "outputs": [
    {
     "data": {
      "text/plain": [
       "array([0.        , 1.        , 1.41421356, 1.73205081, 2.        ,\n",
       "       2.23606798, 2.44948974, 2.64575131, 2.82842712, 3.        ])"
      ]
     },
     "execution_count": 4,
     "metadata": {},
     "output_type": "execute_result"
    }
   ],
   "source": [
    "np.sqrt(arr)"
   ]
  },
  {
   "cell_type": "markdown",
   "id": "0b5c08e2",
   "metadata": {},
   "source": [
    "np.exp() is Euler's Number to the power of each number in the array, basically e^x for x in arr"
   ]
  },
  {
   "cell_type": "code",
   "execution_count": 5,
   "id": "070a354b",
   "metadata": {},
   "outputs": [
    {
     "data": {
      "text/plain": [
       "array([1.00000000e+00, 2.71828183e+00, 7.38905610e+00, 2.00855369e+01,\n",
       "       5.45981500e+01, 1.48413159e+02, 4.03428793e+02, 1.09663316e+03,\n",
       "       2.98095799e+03, 8.10308393e+03])"
      ]
     },
     "execution_count": 5,
     "metadata": {},
     "output_type": "execute_result"
    }
   ],
   "source": [
    "np.exp(arr)"
   ]
  },
  {
   "cell_type": "markdown",
   "id": "8cb030df",
   "metadata": {},
   "source": [
    "The above functions are referred to as *unary* ufuncs, and the below functions are *binary* ufuncs."
   ]
  },
  {
   "cell_type": "code",
   "execution_count": 8,
   "id": "1051541c",
   "metadata": {},
   "outputs": [
    {
     "data": {
      "text/plain": [
       "array([ 1.57430415,  1.24196732,  0.72647537, -0.2787623 , -0.16880054,\n",
       "       -1.0022526 , -0.17120514,  0.15635623])"
      ]
     },
     "execution_count": 8,
     "metadata": {},
     "output_type": "execute_result"
    }
   ],
   "source": [
    "rng = np.random.default_rng()\n",
    "\n",
    "x = rng.standard_normal(8)\n",
    "\n",
    "y = rng.standard_normal(8)\n",
    "\n",
    "x"
   ]
  },
  {
   "cell_type": "code",
   "execution_count": 9,
   "id": "b81d63dd",
   "metadata": {},
   "outputs": [
    {
     "data": {
      "text/plain": [
       "array([-0.10367321,  1.04484717,  0.84886972,  1.19118557, -0.81542347,\n",
       "       -1.36120634, -1.14141358,  0.14279467])"
      ]
     },
     "execution_count": 9,
     "metadata": {},
     "output_type": "execute_result"
    }
   ],
   "source": [
    "y"
   ]
  },
  {
   "cell_type": "markdown",
   "id": "bd0f15c3",
   "metadata": {},
   "source": [
    "np.maximum() computes the element-wise maximum in both arrays"
   ]
  },
  {
   "cell_type": "code",
   "execution_count": 10,
   "id": "d03cb593",
   "metadata": {},
   "outputs": [
    {
     "data": {
      "text/plain": [
       "array([ 1.57430415,  1.24196732,  0.84886972,  1.19118557, -0.16880054,\n",
       "       -1.0022526 , -0.17120514,  0.15635623])"
      ]
     },
     "execution_count": 10,
     "metadata": {},
     "output_type": "execute_result"
    }
   ],
   "source": [
    "np.maximum(x, y)"
   ]
  },
  {
   "cell_type": "markdown",
   "id": "12b3377a",
   "metadata": {},
   "source": [
    "Sometimes, an ufunc can return multiple arrays, like np.modf"
   ]
  },
  {
   "cell_type": "code",
   "execution_count": 12,
   "id": "88177bc5",
   "metadata": {},
   "outputs": [
    {
     "data": {
      "text/plain": [
       "array([-6.83329627, -0.73004607, -8.4984833 , -2.77344271, -1.7388157 ,\n",
       "        6.74090261, 10.07745973])"
      ]
     },
     "execution_count": 12,
     "metadata": {},
     "output_type": "execute_result"
    }
   ],
   "source": [
    "arr = rng.standard_normal(7) * 5\n",
    "arr"
   ]
  },
  {
   "cell_type": "code",
   "execution_count": 13,
   "id": "a0f26d78",
   "metadata": {},
   "outputs": [
    {
     "data": {
      "text/plain": [
       "array([-0.83329627, -0.73004607, -0.4984833 , -0.77344271, -0.7388157 ,\n",
       "        0.74090261,  0.07745973])"
      ]
     },
     "execution_count": 13,
     "metadata": {},
     "output_type": "execute_result"
    }
   ],
   "source": [
    "remainder, whole_part = np.modf(arr)\n",
    "\n",
    "remainder"
   ]
  },
  {
   "cell_type": "code",
   "execution_count": 14,
   "id": "f942c5d1",
   "metadata": {},
   "outputs": [
    {
     "data": {
      "text/plain": [
       "array([-6., -0., -8., -2., -1.,  6., 10.])"
      ]
     },
     "execution_count": 14,
     "metadata": {},
     "output_type": "execute_result"
    }
   ],
   "source": [
    "whole_part"
   ]
  },
  {
   "cell_type": "markdown",
   "id": "1a8b8fbb",
   "metadata": {},
   "source": [
    "Ufuncs have an optional *out* argument that allows them to assign their results to an existing array"
   ]
  },
  {
   "cell_type": "code",
   "execution_count": 20,
   "id": "934c46ef",
   "metadata": {},
   "outputs": [
    {
     "data": {
      "text/plain": [
       "array([-6.83329627, -0.73004607, -8.4984833 , -2.77344271, -1.7388157 ,\n",
       "        6.74090261, 10.07745973])"
      ]
     },
     "execution_count": 20,
     "metadata": {},
     "output_type": "execute_result"
    }
   ],
   "source": [
    "arr"
   ]
  },
  {
   "cell_type": "code",
   "execution_count": 21,
   "id": "f4ce3385",
   "metadata": {},
   "outputs": [],
   "source": [
    "out = np.zeros_like(arr)"
   ]
  },
  {
   "cell_type": "code",
   "execution_count": 22,
   "id": "396e4ee6",
   "metadata": {},
   "outputs": [
    {
     "data": {
      "text/plain": [
       "array([-5.83329627,  0.26995393, -7.4984833 , -1.77344271, -0.7388157 ,\n",
       "        7.74090261, 11.07745973])"
      ]
     },
     "execution_count": 22,
     "metadata": {},
     "output_type": "execute_result"
    }
   ],
   "source": [
    "np.add(arr, 1)"
   ]
  },
  {
   "cell_type": "code",
   "execution_count": 23,
   "id": "9574e3a1",
   "metadata": {},
   "outputs": [
    {
     "data": {
      "text/plain": [
       "array([-5.83329627,  0.26995393, -7.4984833 , -1.77344271, -0.7388157 ,\n",
       "        7.74090261, 11.07745973])"
      ]
     },
     "execution_count": 23,
     "metadata": {},
     "output_type": "execute_result"
    }
   ],
   "source": [
    "np.add(arr, 1, out=out)"
   ]
  },
  {
   "cell_type": "code",
   "execution_count": 24,
   "id": "b1ef828d",
   "metadata": {},
   "outputs": [
    {
     "data": {
      "text/plain": [
       "array([-5.83329627,  0.26995393, -7.4984833 , -1.77344271, -0.7388157 ,\n",
       "        7.74090261, 11.07745973])"
      ]
     },
     "execution_count": 24,
     "metadata": {},
     "output_type": "execute_result"
    }
   ],
   "source": [
    "out"
   ]
  }
 ],
 "metadata": {
  "kernelspec": {
   "display_name": "Python 3",
   "language": "python",
   "name": "python3"
  },
  "language_info": {
   "codemirror_mode": {
    "name": "ipython",
    "version": 3
   },
   "file_extension": ".py",
   "mimetype": "text/x-python",
   "name": "python",
   "nbconvert_exporter": "python",
   "pygments_lexer": "ipython3",
   "version": "3.10.0"
  }
 },
 "nbformat": 4,
 "nbformat_minor": 5
}
