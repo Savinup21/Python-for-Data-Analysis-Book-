{
 "cells": [
  {
   "cell_type": "markdown",
   "id": "9bcb3c47",
   "metadata": {},
   "source": [
    "**Exercise 1: Create a NumPy array with values [1, 4, 9, 16, 25] and use np.sqrt to compute the square root of each element.**"
   ]
  },
  {
   "cell_type": "code",
   "execution_count": 2,
   "id": "e9e8ba75",
   "metadata": {},
   "outputs": [],
   "source": [
    "import numpy as np"
   ]
  },
  {
   "cell_type": "code",
   "execution_count": 8,
   "id": "06747c54",
   "metadata": {},
   "outputs": [
    {
     "data": {
      "text/plain": [
       "array([1., 2., 3., 4., 5.])"
      ]
     },
     "execution_count": 8,
     "metadata": {},
     "output_type": "execute_result"
    }
   ],
   "source": [
    "arr = np.array([1, 4, 9, 16, 25])\n",
    "np.sqrt(arr)"
   ]
  },
  {
   "cell_type": "markdown",
   "id": "01a0f537",
   "metadata": {},
   "source": [
    "**Exercise 2: Given arr = np.array([1.2, 3.8, -2.5, -4.9]), use np.floor to round each element down.**"
   ]
  },
  {
   "cell_type": "code",
   "execution_count": 9,
   "id": "de104c52",
   "metadata": {},
   "outputs": [
    {
     "data": {
      "text/plain": [
       "array([ 1.,  3., -3., -5.])"
      ]
     },
     "execution_count": 9,
     "metadata": {},
     "output_type": "execute_result"
    }
   ],
   "source": [
    "arr = np.array([1.2, 3.8, -2.5, -4.9])\n",
    "np.floor(arr)"
   ]
  },
  {
   "cell_type": "code",
   "execution_count": 10,
   "id": "dfd791c2",
   "metadata": {},
   "outputs": [
    {
     "data": {
      "text/plain": [
       "array([ 2.,  4., -2., -4.])"
      ]
     },
     "execution_count": 10,
     "metadata": {},
     "output_type": "execute_result"
    }
   ],
   "source": [
    "np.ceil(arr)"
   ]
  },
  {
   "cell_type": "markdown",
   "id": "cad1c5ac",
   "metadata": {},
   "source": [
    "**Exercise 3: Create two arrays: arr1 = [1, 2, 3] and arr2 = [4, 5, 6]. Use np.add to add them element-wise.**\n"
   ]
  },
  {
   "cell_type": "code",
   "execution_count": 11,
   "id": "3dab5cdb",
   "metadata": {},
   "outputs": [
    {
     "data": {
      "text/plain": [
       "array([5, 7, 9])"
      ]
     },
     "execution_count": 11,
     "metadata": {},
     "output_type": "execute_result"
    }
   ],
   "source": [
    "arr1 = [1, 2, 3] \n",
    "arr2 = [4, 5, 6]\n",
    "\n",
    "\n",
    "np.add(arr1, arr2)"
   ]
  },
  {
   "cell_type": "markdown",
   "id": "e06ccd70",
   "metadata": {},
   "source": [
    "**Exercise 4: Using arr1 and arr2, use np.maximum to get the element-wise maximum values.**\n"
   ]
  },
  {
   "cell_type": "code",
   "execution_count": 12,
   "id": "72abf29e",
   "metadata": {},
   "outputs": [
    {
     "data": {
      "text/plain": [
       "array([4, 5, 6])"
      ]
     },
     "execution_count": 12,
     "metadata": {},
     "output_type": "execute_result"
    }
   ],
   "source": [
    "np.maximum(arr1, arr2)"
   ]
  },
  {
   "cell_type": "markdown",
   "id": "a8b374de",
   "metadata": {},
   "source": [
    "**Exercise 5: Create a NumPy array with 5 values between 0 and 2π and use np.sin to compute their sine values.**"
   ]
  },
  {
   "cell_type": "code",
   "execution_count": 13,
   "id": "e03e66b6",
   "metadata": {},
   "outputs": [
    {
     "data": {
      "text/plain": [
       "array([0.        , 1.57079633, 3.14159265, 4.71238898, 6.28318531])"
      ]
     },
     "execution_count": 13,
     "metadata": {},
     "output_type": "execute_result"
    }
   ],
   "source": [
    "pi_array = np.linspace(0, 2*np.pi, 5)\n",
    "pi_array"
   ]
  }
 ],
 "metadata": {
  "kernelspec": {
   "display_name": "Python 3",
   "language": "python",
   "name": "python3"
  },
  "language_info": {
   "codemirror_mode": {
    "name": "ipython",
    "version": 3
   },
   "file_extension": ".py",
   "mimetype": "text/x-python",
   "name": "python",
   "nbconvert_exporter": "python",
   "pygments_lexer": "ipython3",
   "version": "3.10.0"
  }
 },
 "nbformat": 4,
 "nbformat_minor": 5
}
