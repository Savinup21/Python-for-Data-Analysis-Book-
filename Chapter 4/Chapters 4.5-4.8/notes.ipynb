{
 "cells": [
  {
   "cell_type": "markdown",
   "id": "96f6ebbc",
   "metadata": {},
   "source": [
    "**4.5 File Input and Output with Arrays**"
   ]
  },
  {
   "cell_type": "markdown",
   "id": "b570dd4e",
   "metadata": {},
   "source": [
    "Numpy can save and load data from the disk in some formats. Some functions to do that are *np.save* and *np.load*"
   ]
  },
  {
   "cell_type": "code",
   "execution_count": 8,
   "id": "72ed6e82",
   "metadata": {},
   "outputs": [],
   "source": [
    "import numpy as np"
   ]
  },
  {
   "cell_type": "code",
   "execution_count": 9,
   "id": "35eeb44b",
   "metadata": {},
   "outputs": [],
   "source": [
    "arr = np.arange(10)\n",
    "np.save(\"arr\", arr)"
   ]
  },
  {
   "cell_type": "code",
   "execution_count": 10,
   "id": "69e59511",
   "metadata": {},
   "outputs": [
    {
     "data": {
      "text/plain": [
       "array([0, 1, 2, 3, 4, 5, 6, 7, 8, 9])"
      ]
     },
     "execution_count": 10,
     "metadata": {},
     "output_type": "execute_result"
    }
   ],
   "source": [
    "np.load(\"arr.npy\")"
   ]
  },
  {
   "cell_type": "markdown",
   "id": "10ef9d7d",
   "metadata": {},
   "source": [
    "You can save multiple arrays in an uncompressed archive using *numpy.savez*"
   ]
  },
  {
   "cell_type": "code",
   "execution_count": 11,
   "id": "877173c5",
   "metadata": {},
   "outputs": [],
   "source": [
    "np.savez(\"array_archive.npz\", a=arr, b=arr)"
   ]
  },
  {
   "cell_type": "markdown",
   "id": "d5a1f699",
   "metadata": {},
   "source": [
    "When you load a *.npz* file, you get back a dictionary-like object that loads the individual arrays "
   ]
  },
  {
   "cell_type": "code",
   "execution_count": 12,
   "id": "fc91ab17",
   "metadata": {},
   "outputs": [
    {
     "data": {
      "text/plain": [
       "array([0, 1, 2, 3, 4, 5, 6, 7, 8, 9])"
      ]
     },
     "execution_count": 12,
     "metadata": {},
     "output_type": "execute_result"
    }
   ],
   "source": [
    "arch = np.load(\"array_archive.npz\")\n",
    "arch['a']"
   ]
  },
  {
   "cell_type": "code",
   "execution_count": null,
   "id": "9e9848b8",
   "metadata": {},
   "outputs": [
    {
     "data": {
      "text/plain": [
       "array([0, 1, 2, 3, 4, 5, 6, 7, 8, 9])"
      ]
     },
     "execution_count": 13,
     "metadata": {},
     "output_type": "execute_result"
    }
   ],
   "source": [
    "arch['b'"
   ]
  },
  {
   "cell_type": "markdown",
   "id": "1c485a2f",
   "metadata": {},
   "source": [
    "**4.6 Linear Algebra**"
   ]
  },
  {
   "cell_type": "code",
   "execution_count": 14,
   "id": "dfe78d4b",
   "metadata": {},
   "outputs": [
    {
     "data": {
      "text/plain": [
       "array([[1., 2., 3.],\n",
       "       [4., 5., 6.]])"
      ]
     },
     "execution_count": 14,
     "metadata": {},
     "output_type": "execute_result"
    }
   ],
   "source": [
    "x = np.array([[1., 2., 3.], [4., 5.,   6.]])\n",
    "y = np.array([[6., 23.], [-1, 7], [8, 9]])\n",
    "x"
   ]
  },
  {
   "cell_type": "code",
   "execution_count": 15,
   "id": "2d106f0c",
   "metadata": {},
   "outputs": [
    {
     "data": {
      "text/plain": [
       "array([[ 6., 23.],\n",
       "       [-1.,  7.],\n",
       "       [ 8.,  9.]])"
      ]
     },
     "execution_count": 15,
     "metadata": {},
     "output_type": "execute_result"
    }
   ],
   "source": [
    "y"
   ]
  },
  {
   "cell_type": "markdown",
   "id": "d7daa477",
   "metadata": {},
   "source": [
    "*.dot* and *np.dot()* are both for matrix multiplication"
   ]
  },
  {
   "cell_type": "code",
   "execution_count": 16,
   "id": "7d1a220d",
   "metadata": {},
   "outputs": [
    {
     "data": {
      "text/plain": [
       "array([[ 28.,  64.],\n",
       "       [ 67., 181.]])"
      ]
     },
     "execution_count": 16,
     "metadata": {},
     "output_type": "execute_result"
    }
   ],
   "source": [
    "x.dot(y)"
   ]
  },
  {
   "cell_type": "code",
   "execution_count": 17,
   "id": "4c9edc7e",
   "metadata": {},
   "outputs": [
    {
     "data": {
      "text/plain": [
       "array([[ 28.,  64.],\n",
       "       [ 67., 181.]])"
      ]
     },
     "execution_count": 17,
     "metadata": {},
     "output_type": "execute_result"
    }
   ],
   "source": [
    "np.dot(x, y)"
   ]
  },
  {
   "cell_type": "code",
   "execution_count": 18,
   "id": "e9e52412",
   "metadata": {},
   "outputs": [
    {
     "data": {
      "text/plain": [
       "array([ 6., 15.])"
      ]
     },
     "execution_count": 18,
     "metadata": {},
     "output_type": "execute_result"
    }
   ],
   "source": [
    "x @ np.ones(3)"
   ]
  },
  {
   "cell_type": "markdown",
   "id": "8b4908ff",
   "metadata": {},
   "source": [
    "The *numpy.linalg* library has many matrix decompositions and things like *inverse* and *determinant*"
   ]
  },
  {
   "cell_type": "code",
   "execution_count": 19,
   "id": "ab8a7fb0",
   "metadata": {},
   "outputs": [],
   "source": [
    "from numpy.linalg import inv, qr\n",
    "rng = np.random \n",
    "X = rng.standard_normal((5, 5))"
   ]
  },
  {
   "cell_type": "code",
   "execution_count": 20,
   "id": "44b58e8e",
   "metadata": {},
   "outputs": [],
   "source": [
    "mat = X.T @ X"
   ]
  },
  {
   "cell_type": "code",
   "execution_count": 21,
   "id": "20d552fa",
   "metadata": {},
   "outputs": [
    {
     "data": {
      "text/plain": [
       "array([[ 0.20924205,  0.40287765,  0.28662224, -0.33951757, -0.02465971],\n",
       "       [ 0.40287765,  1.88257788,  1.41266036, -1.37192848, -0.09134002],\n",
       "       [ 0.28662224,  1.41266036,  1.28493957, -1.10485417, -0.12396647],\n",
       "       [-0.33951757, -1.37192848, -1.10485417,  1.29242376,  0.04422293],\n",
       "       [-0.02465971, -0.09134002, -0.12396647,  0.04422293,  0.14075124]])"
      ]
     },
     "execution_count": 21,
     "metadata": {},
     "output_type": "execute_result"
    }
   ],
   "source": [
    "inv(mat)"
   ]
  }
 ],
 "metadata": {
  "kernelspec": {
   "display_name": "Python 3",
   "language": "python",
   "name": "python3"
  },
  "language_info": {
   "codemirror_mode": {
    "name": "ipython",
    "version": 3
   },
   "file_extension": ".py",
   "mimetype": "text/x-python",
   "name": "python",
   "nbconvert_exporter": "python",
   "pygments_lexer": "ipython3",
   "version": "3.10.0"
  }
 },
 "nbformat": 4,
 "nbformat_minor": 5
}
