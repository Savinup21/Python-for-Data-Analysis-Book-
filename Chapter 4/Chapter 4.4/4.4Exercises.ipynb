{
 "cells": [
  {
   "cell_type": "code",
   "execution_count": 3,
   "id": "7c3efa5d",
   "metadata": {},
   "outputs": [],
   "source": [
    "import numpy as np"
   ]
  },
  {
   "cell_type": "markdown",
   "id": "e8d07f47",
   "metadata": {},
   "source": [
    "**Exercise 1: Create a NumPy array with values from 0 to 9. Use boolean indexing to select all numbers greater than 5.**\n"
   ]
  },
  {
   "cell_type": "code",
   "execution_count": 4,
   "id": "2b55f4b5",
   "metadata": {},
   "outputs": [
    {
     "data": {
      "text/plain": [
       "(array([6, 7, 8, 9], dtype=int64),)"
      ]
     },
     "execution_count": 4,
     "metadata": {},
     "output_type": "execute_result"
    }
   ],
   "source": [
    "arr = np.arange(10)\n",
    "np.where(arr > 5)"
   ]
  },
  {
   "cell_type": "markdown",
   "id": "f2e6bb73",
   "metadata": {},
   "source": [
    "**Exercise 2: Given arr = np.array([10, 20, 30, 40, 50]), create a boolean mask for elements greater than or equal to 30.**"
   ]
  },
  {
   "cell_type": "code",
   "execution_count": 7,
   "id": "ab68b8b2",
   "metadata": {},
   "outputs": [
    {
     "data": {
      "text/plain": [
       "array([40, 50])"
      ]
     },
     "execution_count": 7,
     "metadata": {},
     "output_type": "execute_result"
    }
   ],
   "source": [
    "arr = np.array([10, 20, 30, 40, 50])\n",
    "mask = arr > 30\n",
    "filt_arr = arr[mask]\n",
    "filt_arr"
   ]
  },
  {
   "cell_type": "markdown",
   "id": "8e5415f3",
   "metadata": {},
   "source": [
    "**Exercise 3: Using the same arr, replace all values greater than or equal to 30 with 0.**"
   ]
  },
  {
   "cell_type": "code",
   "execution_count": 9,
   "id": "f1428214",
   "metadata": {},
   "outputs": [
    {
     "data": {
      "text/plain": [
       "array([10, 20,  0,  0,  0])"
      ]
     },
     "execution_count": 9,
     "metadata": {},
     "output_type": "execute_result"
    }
   ],
   "source": [
    "arr[arr >= 30] = 0\n",
    "arr"
   ]
  },
  {
   "cell_type": "markdown",
   "id": "22285375",
   "metadata": {},
   "source": [
    "**Exercise 4: Create a NumPy array from 1 to 12, reshape it into a 3x4 matrix, and select the second row.**"
   ]
  },
  {
   "cell_type": "code",
   "execution_count": 13,
   "id": "a5bb29f2",
   "metadata": {},
   "outputs": [
    {
     "data": {
      "text/plain": [
       "array([[ 0,  1,  2,  3],\n",
       "       [ 4,  5,  6,  7],\n",
       "       [ 8,  9, 10, 11]])"
      ]
     },
     "execution_count": 13,
     "metadata": {},
     "output_type": "execute_result"
    }
   ],
   "source": [
    "arr1 = np.arange(12)\n",
    "arr1 = arr1.reshape((3, 4))\n",
    "arr1"
   ]
  },
  {
   "cell_type": "code",
   "execution_count": 14,
   "id": "bec8aad3",
   "metadata": {},
   "outputs": [
    {
     "data": {
      "text/plain": [
       "array([4, 5, 6, 7])"
      ]
     },
     "execution_count": 14,
     "metadata": {},
     "output_type": "execute_result"
    }
   ],
   "source": [
    "arr1[1]"
   ]
  },
  {
   "cell_type": "markdown",
   "id": "339ca8ce",
   "metadata": {},
   "source": [
    "**Exercise 5: Select the first two columns from the 3x4 matrix created in question 4.**"
   ]
  },
  {
   "cell_type": "code",
   "execution_count": 17,
   "id": "954a447a",
   "metadata": {},
   "outputs": [
    {
     "data": {
      "text/plain": [
       "array([[0, 1],\n",
       "       [4, 5],\n",
       "       [8, 9]])"
      ]
     },
     "execution_count": 17,
     "metadata": {},
     "output_type": "execute_result"
    }
   ],
   "source": [
    "arr1[:, :2]"
   ]
  },
  {
   "cell_type": "markdown",
   "id": "f2e867be",
   "metadata": {},
   "source": [
    "**Exercise 6: Create a 5x5 NumPy array of random integers between 1 and 100.    Select all elements that are divisible by 3.**\n"
   ]
  },
  {
   "cell_type": "code",
   "execution_count": 24,
   "id": "2f55b5e0",
   "metadata": {},
   "outputs": [
    {
     "data": {
      "text/plain": [
       "array([93, 18, 15, 21, 75,  6, 90, 96, 42])"
      ]
     },
     "execution_count": 24,
     "metadata": {},
     "output_type": "execute_result"
    }
   ],
   "source": [
    "arr = (np.random.randint(1, 100, (5, 5)))\n",
    "mask = arr % 3 == 0\n",
    "divisible = arr[mask]\n",
    "divisible"
   ]
  },
  {
   "cell_type": "markdown",
   "id": "c36923f9",
   "metadata": {},
   "source": [
    "**Exercise 7: Create an array with values from 0 to 19. Use fancy indexing to select elements at positions [1, 5, 10, 15].**\n"
   ]
  },
  {
   "cell_type": "code",
   "execution_count": 27,
   "id": "036ec000",
   "metadata": {},
   "outputs": [
    {
     "data": {
      "text/plain": [
       "array([ 0,  1,  2,  3,  4,  5,  6,  7,  8,  9, 10, 11, 12, 13, 14, 15, 16,\n",
       "       17, 18])"
      ]
     },
     "execution_count": 27,
     "metadata": {},
     "output_type": "execute_result"
    }
   ],
   "source": [
    "arr3 = np.arange(0, 19)\n",
    "indices = [1, 5, 10, 15]\n",
    "arr3"
   ]
  },
  {
   "cell_type": "code",
   "execution_count": 28,
   "id": "2cb4c543",
   "metadata": {},
   "outputs": [
    {
     "data": {
      "text/plain": [
       "array([ 1,  5, 10, 15])"
      ]
     },
     "execution_count": 28,
     "metadata": {},
     "output_type": "execute_result"
    }
   ],
   "source": [
    "arr3[indices]"
   ]
  },
  {
   "cell_type": "markdown",
   "id": "9ef4ec45",
   "metadata": {},
   "source": [
    "**Exercise 8: Given arr = np.array([1, 2, 3, 4, 5]), set the first three elements to -1 using slicing.**\n"
   ]
  },
  {
   "cell_type": "code",
   "execution_count": 29,
   "id": "aa2fe972",
   "metadata": {},
   "outputs": [
    {
     "data": {
      "text/plain": [
       "array([-1, -1, -1,  4,  5])"
      ]
     },
     "execution_count": 29,
     "metadata": {},
     "output_type": "execute_result"
    }
   ],
   "source": [
    "arr = np.array([1, 2, 3, 4, 5])\n",
    "arr[:3] = -1\n",
    "arr"
   ]
  },
  {
   "cell_type": "markdown",
   "id": "5e49c11c",
   "metadata": {},
   "source": [
    "**Exercise 9: Create a 4x4 identity matrix and change the value in the bottom-right corner to 99.** "
   ]
  },
  {
   "cell_type": "code",
   "execution_count": 35,
   "id": "8dd74673",
   "metadata": {},
   "outputs": [
    {
     "data": {
      "text/plain": [
       "array([[ 0,  1,  2,  3],\n",
       "       [ 4,  5,  6,  7],\n",
       "       [ 8,  9, 10, 11],\n",
       "       [12, 13, 14, 15]])"
      ]
     },
     "execution_count": 35,
     "metadata": {},
     "output_type": "execute_result"
    }
   ],
   "source": [
    "rng = np.random\n",
    "arr5 = np.arange(16)\n",
    "arr5 = np.reshape(arr5, (4, 4))\n",
    "arr5"
   ]
  },
  {
   "cell_type": "code",
   "execution_count": 36,
   "id": "61a32907",
   "metadata": {},
   "outputs": [
    {
     "data": {
      "text/plain": [
       "array([[ 0,  1,  2,  3],\n",
       "       [ 4,  5,  6,  7],\n",
       "       [ 8,  9, 10, 11],\n",
       "       [12, 13, 14, 99]])"
      ]
     },
     "execution_count": 36,
     "metadata": {},
     "output_type": "execute_result"
    }
   ],
   "source": [
    "arr5[3, 3] = 99\n",
    "arr5"
   ]
  },
  {
   "cell_type": "markdown",
   "id": "d0040e62",
   "metadata": {},
   "source": [
    "**Exercise 10: Create two arrays, arr1 = np.array([1, 2, 3]) and arr2 = np.array([4, 5, 6]). Stack them vertically and horizontally using np.vstack() and np.hstack().**"
   ]
  },
  {
   "cell_type": "code",
   "execution_count": 38,
   "id": "d5ca8a29",
   "metadata": {},
   "outputs": [
    {
     "data": {
      "text/plain": [
       "array([[1, 2, 3],\n",
       "       [4, 5, 6]])"
      ]
     },
     "execution_count": 38,
     "metadata": {},
     "output_type": "execute_result"
    }
   ],
   "source": [
    "arr1 = np.array([1, 2, 3]) \n",
    "arr2 = np.array([4, 5, 6])\n",
    "vert_stack = np.vstack((arr1, arr2))\n",
    "horiz_stack = np.hstack((arr1, arr2))\n",
    "\n",
    "vert_stack"
   ]
  },
  {
   "cell_type": "code",
   "execution_count": 39,
   "id": "b2b39057",
   "metadata": {},
   "outputs": [
    {
     "data": {
      "text/plain": [
       "array([1, 2, 3, 4, 5, 6])"
      ]
     },
     "execution_count": 39,
     "metadata": {},
     "output_type": "execute_result"
    }
   ],
   "source": [
    "horiz_stack"
   ]
  }
 ],
 "metadata": {
  "kernelspec": {
   "display_name": "Python 3",
   "language": "python",
   "name": "python3"
  },
  "language_info": {
   "codemirror_mode": {
    "name": "ipython",
    "version": 3
   },
   "file_extension": ".py",
   "mimetype": "text/x-python",
   "name": "python",
   "nbconvert_exporter": "python",
   "pygments_lexer": "ipython3",
   "version": "3.10.0"
  }
 },
 "nbformat": 4,
 "nbformat_minor": 5
}
