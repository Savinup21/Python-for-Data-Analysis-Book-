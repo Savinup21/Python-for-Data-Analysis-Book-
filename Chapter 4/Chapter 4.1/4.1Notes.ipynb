{
 "cells": [
  {
   "cell_type": "markdown",
   "id": "0f6fa0f2",
   "metadata": {},
   "source": [
    "**4.1 The Numpy Array:**"
   ]
  },
  {
   "cell_type": "code",
   "execution_count": 88,
   "id": "3bda4f9d",
   "metadata": {},
   "outputs": [
    {
     "data": {
      "text/plain": [
       "array([[1, 2, 3],\n",
       "       [4, 5, 6]])"
      ]
     },
     "execution_count": 88,
     "metadata": {},
     "output_type": "execute_result"
    }
   ],
   "source": [
    "import numpy as np\n",
    "data = np.array([[1, 2, 3], [4, 5, 6]])\n",
    "data"
   ]
  },
  {
   "cell_type": "code",
   "execution_count": 89,
   "id": "a5f5fda3",
   "metadata": {},
   "outputs": [
    {
     "data": {
      "text/plain": [
       "numpy.ndarray"
      ]
     },
     "execution_count": 89,
     "metadata": {},
     "output_type": "execute_result"
    }
   ],
   "source": [
    "type(data)"
   ]
  },
  {
   "cell_type": "markdown",
   "id": "5bc06092",
   "metadata": {},
   "source": [
    "You can perform mathematical operations on ndarrays:"
   ]
  },
  {
   "cell_type": "code",
   "execution_count": 90,
   "id": "da3eca46",
   "metadata": {},
   "outputs": [
    {
     "data": {
      "text/plain": [
       "array([[ 2,  4,  6],\n",
       "       [ 8, 10, 12]])"
      ]
     },
     "execution_count": 90,
     "metadata": {},
     "output_type": "execute_result"
    }
   ],
   "source": [
    "data + data"
   ]
  },
  {
   "cell_type": "markdown",
   "id": "691e1987",
   "metadata": {},
   "source": [
    "You can get the shape of a ndarray using *.shape*. This is in the format of a grid, ex. '5x5' would be (5, 5)"
   ]
  },
  {
   "cell_type": "code",
   "execution_count": 91,
   "id": "5dfdec7b",
   "metadata": {},
   "outputs": [
    {
     "data": {
      "text/plain": [
       "(2, 3)"
      ]
     },
     "execution_count": 91,
     "metadata": {},
     "output_type": "execute_result"
    }
   ],
   "source": [
    "data.shape"
   ]
  },
  {
   "cell_type": "markdown",
   "id": "a14b38ab",
   "metadata": {},
   "source": [
    "You can use *.dtype* for getting the data type of the values inside the ndarray"
   ]
  },
  {
   "cell_type": "code",
   "execution_count": 92,
   "id": "cce6d7b0",
   "metadata": {},
   "outputs": [
    {
     "data": {
      "text/plain": [
       "dtype('int32')"
      ]
     },
     "execution_count": 92,
     "metadata": {},
     "output_type": "execute_result"
    }
   ],
   "source": [
    "data.dtype"
   ]
  },
  {
   "cell_type": "markdown",
   "id": "06d7f777",
   "metadata": {},
   "source": [
    "Ndarrays are typically *homogenous*, meaning that all elements must be the same data type."
   ]
  },
  {
   "cell_type": "markdown",
   "id": "2ca8208f",
   "metadata": {},
   "source": [
    "**Creating Ndarrays**"
   ]
  },
  {
   "cell_type": "code",
   "execution_count": 93,
   "id": "85059fec",
   "metadata": {},
   "outputs": [
    {
     "data": {
      "text/plain": [
       "array([6, 7, 8, 3, 4])"
      ]
     },
     "execution_count": 93,
     "metadata": {},
     "output_type": "execute_result"
    }
   ],
   "source": [
    "data1 = [6, 7, 8, 3, 4,]\n",
    "arr1 = np.array(data1)\n",
    "arr1"
   ]
  },
  {
   "cell_type": "markdown",
   "id": "c538c6f2",
   "metadata": {},
   "source": [
    "Nested sequences will be converted into a *multidimensional array*"
   ]
  },
  {
   "cell_type": "code",
   "execution_count": 94,
   "id": "195512d3",
   "metadata": {},
   "outputs": [
    {
     "data": {
      "text/plain": [
       "array([[2.2, 3. , 1. , 4. ],\n",
       "       [6. , 7. , 5. , 8. ]])"
      ]
     },
     "execution_count": 94,
     "metadata": {},
     "output_type": "execute_result"
    }
   ],
   "source": [
    "data2 = [[2.2, 3, 1, 4], [6, 7, 5, 8]]\n",
    "arr2 = np.array(data2)\n",
    "arr2"
   ]
  },
  {
   "cell_type": "markdown",
   "id": "a7f1d267",
   "metadata": {},
   "source": [
    "Since data2 was a list of lists, that means it has 2 dimensions, and this can be confirmed using *ndim* and *shape*"
   ]
  },
  {
   "cell_type": "code",
   "execution_count": 95,
   "id": "4954cc65",
   "metadata": {},
   "outputs": [
    {
     "data": {
      "text/plain": [
       "2"
      ]
     },
     "execution_count": 95,
     "metadata": {},
     "output_type": "execute_result"
    }
   ],
   "source": [
    "arr2.ndim"
   ]
  },
  {
   "cell_type": "code",
   "execution_count": 96,
   "id": "57c2c5bf",
   "metadata": {},
   "outputs": [
    {
     "data": {
      "text/plain": [
       "(2, 4)"
      ]
     },
     "execution_count": 96,
     "metadata": {},
     "output_type": "execute_result"
    }
   ],
   "source": [
    "arr2.shape"
   ]
  },
  {
   "cell_type": "markdown",
   "id": "d76fd9e3",
   "metadata": {},
   "source": [
    "When a *ndarray* is created, Numpy tries to find a good data tyype for the array it creates"
   ]
  },
  {
   "cell_type": "code",
   "execution_count": 97,
   "id": "9d3ae972",
   "metadata": {},
   "outputs": [
    {
     "data": {
      "text/plain": [
       "dtype('int32')"
      ]
     },
     "execution_count": 97,
     "metadata": {},
     "output_type": "execute_result"
    }
   ],
   "source": [
    "arr1.dtype"
   ]
  },
  {
   "cell_type": "code",
   "execution_count": 98,
   "id": "cd1d2191",
   "metadata": {},
   "outputs": [
    {
     "data": {
      "text/plain": [
       "dtype('float64')"
      ]
     },
     "execution_count": 98,
     "metadata": {},
     "output_type": "execute_result"
    }
   ],
   "source": [
    "arr2.dtype"
   ]
  },
  {
   "cell_type": "markdown",
   "id": "d1dcbd33",
   "metadata": {},
   "source": [
    "There are other ways to create new arrays, like the *np.zeros* and *np.ones*, which creates arrays full of zeroes and ones, respectively"
   ]
  },
  {
   "cell_type": "code",
   "execution_count": 99,
   "id": "076f00a0",
   "metadata": {},
   "outputs": [
    {
     "data": {
      "text/plain": [
       "array([0., 0., 0., 0., 0.])"
      ]
     },
     "execution_count": 99,
     "metadata": {},
     "output_type": "execute_result"
    }
   ],
   "source": [
    "np.zeros(5)"
   ]
  },
  {
   "cell_type": "code",
   "execution_count": 100,
   "id": "a5944f0d",
   "metadata": {},
   "outputs": [
    {
     "data": {
      "text/plain": [
       "array([[1., 1., 1., 1., 1., 1., 1.],\n",
       "       [1., 1., 1., 1., 1., 1., 1.],\n",
       "       [1., 1., 1., 1., 1., 1., 1.],\n",
       "       [1., 1., 1., 1., 1., 1., 1.],\n",
       "       [1., 1., 1., 1., 1., 1., 1.],\n",
       "       [1., 1., 1., 1., 1., 1., 1.]])"
      ]
     },
     "execution_count": 100,
     "metadata": {},
     "output_type": "execute_result"
    }
   ],
   "source": [
    "np.ones((6, 7))"
   ]
  },
  {
   "cell_type": "markdown",
   "id": "c55bc581",
   "metadata": {},
   "source": [
    "Also, *np.empty* creates an array without initializing its values, and basically returns unitialized memory, resulting in 'junk values', so this is not recommenrded to be used in place of *np.zeroes*"
   ]
  },
  {
   "cell_type": "code",
   "execution_count": 101,
   "id": "1bdce4c1",
   "metadata": {},
   "outputs": [
    {
     "data": {
      "text/plain": [
       "array([[[1.07480864e-311, 2.47032823e-322],\n",
       "        [0.00000000e+000, 0.00000000e+000],\n",
       "        [1.11260619e-306, 1.33664410e+160]],\n",
       "\n",
       "       [[7.17570936e-091, 7.24776312e-042],\n",
       "        [6.54511202e-043, 1.34724489e+165],\n",
       "        [3.99910963e+252, 4.93432906e+257]]])"
      ]
     },
     "execution_count": 101,
     "metadata": {},
     "output_type": "execute_result"
    }
   ],
   "source": [
    "np.empty((2, 3, 2))"
   ]
  },
  {
   "cell_type": "markdown",
   "id": "914896c4",
   "metadata": {},
   "source": [
    "*np.arange()* is a function similar to python's range function, but it returns a array of the range that was inserted"
   ]
  },
  {
   "cell_type": "code",
   "execution_count": 102,
   "id": "288d4813",
   "metadata": {},
   "outputs": [
    {
     "data": {
      "text/plain": [
       "array([ 0,  1,  2,  3,  4,  5,  6,  7,  8,  9, 10, 11, 12, 13, 14])"
      ]
     },
     "execution_count": 102,
     "metadata": {},
     "output_type": "execute_result"
    }
   ],
   "source": [
    "np.arange(15)"
   ]
  },
  {
   "cell_type": "markdown",
   "id": "52663af9",
   "metadata": {},
   "source": [
    "**Data Types for Ndarrays**"
   ]
  },
  {
   "cell_type": "markdown",
   "id": "8c76cf59",
   "metadata": {},
   "source": [
    "You can specify the *dtype* or *data type* by using *dtype=*"
   ]
  },
  {
   "cell_type": "code",
   "execution_count": 103,
   "id": "1068aca4",
   "metadata": {},
   "outputs": [
    {
     "data": {
      "text/plain": [
       "array([1., 2., 3.])"
      ]
     },
     "execution_count": 103,
     "metadata": {},
     "output_type": "execute_result"
    }
   ],
   "source": [
    "arr1 = np.array([1, 2, 3], dtype=np.float64)\n",
    "arr1"
   ]
  },
  {
   "cell_type": "code",
   "execution_count": 104,
   "id": "7129ee9b",
   "metadata": {},
   "outputs": [
    {
     "data": {
      "text/plain": [
       "dtype('float64')"
      ]
     },
     "execution_count": 104,
     "metadata": {},
     "output_type": "execute_result"
    }
   ],
   "source": [
    "arr1.dtype"
   ]
  },
  {
   "cell_type": "markdown",
   "id": "27995592",
   "metadata": {},
   "source": [
    "You can convert an array from one data type to another using *astype()*"
   ]
  },
  {
   "cell_type": "code",
   "execution_count": 105,
   "id": "7edf386a",
   "metadata": {},
   "outputs": [
    {
     "data": {
      "text/plain": [
       "array([1, 2, 3])"
      ]
     },
     "execution_count": 105,
     "metadata": {},
     "output_type": "execute_result"
    }
   ],
   "source": [
    "arr1int = arr1.astype(np.int32)\n",
    "arr1int"
   ]
  },
  {
   "cell_type": "code",
   "execution_count": 106,
   "id": "5c5f6f32",
   "metadata": {},
   "outputs": [
    {
     "data": {
      "text/plain": [
       "dtype('int32')"
      ]
     },
     "execution_count": 106,
     "metadata": {},
     "output_type": "execute_result"
    }
   ],
   "source": [
    "arr1int.dtype"
   ]
  },
  {
   "cell_type": "markdown",
   "id": "3706477d",
   "metadata": {},
   "source": [
    "If floats are converted to ints, the decimal part will be removed"
   ]
  },
  {
   "cell_type": "code",
   "execution_count": 107,
   "id": "38ab0b78",
   "metadata": {},
   "outputs": [
    {
     "data": {
      "text/plain": [
       "dtype('float64')"
      ]
     },
     "execution_count": 107,
     "metadata": {},
     "output_type": "execute_result"
    }
   ],
   "source": [
    "arr2.dtype"
   ]
  },
  {
   "cell_type": "code",
   "execution_count": 108,
   "id": "f82d2c89",
   "metadata": {},
   "outputs": [
    {
     "data": {
      "text/plain": [
       "array([[2.2, 3. , 1. , 4. ],\n",
       "       [6. , 7. , 5. , 8. ]])"
      ]
     },
     "execution_count": 108,
     "metadata": {},
     "output_type": "execute_result"
    }
   ],
   "source": [
    "arr2"
   ]
  },
  {
   "cell_type": "code",
   "execution_count": 109,
   "id": "277bec03",
   "metadata": {},
   "outputs": [
    {
     "data": {
      "text/plain": [
       "array([[2, 3, 1, 4],\n",
       "       [6, 7, 5, 8]])"
      ]
     },
     "execution_count": 109,
     "metadata": {},
     "output_type": "execute_result"
    }
   ],
   "source": [
    "arrint = arr2.astype(np.int32)\n",
    "arrint"
   ]
  },
  {
   "cell_type": "markdown",
   "id": "95d94a7d",
   "metadata": {},
   "source": [
    "If you have strings representing numbers, *astype* can be used to convert them to numeric form"
   ]
  },
  {
   "cell_type": "code",
   "execution_count": 115,
   "id": "2b95239a",
   "metadata": {},
   "outputs": [
    {
     "data": {
      "text/plain": [
       "array([['1', '2', '3'],\n",
       "       ['4', '5', '6']], dtype='<U1')"
      ]
     },
     "execution_count": 115,
     "metadata": {},
     "output_type": "execute_result"
    }
   ],
   "source": [
    "num_strings = np.array([['1', '2', '3'], ['4', '5', '6']])\n",
    "num_strings"
   ]
  },
  {
   "cell_type": "code",
   "execution_count": 116,
   "id": "893a5ee8",
   "metadata": {},
   "outputs": [
    {
     "data": {
      "text/plain": [
       "array([[1, 2, 3],\n",
       "       [4, 5, 6]])"
      ]
     },
     "execution_count": 116,
     "metadata": {},
     "output_type": "execute_result"
    }
   ],
   "source": [
    "nums = num_strings.astype(np.int32)\n",
    "nums"
   ]
  },
  {
   "cell_type": "markdown",
   "id": "23396976",
   "metadata": {},
   "source": [
    "You can also use another array's dtype attribute to change an array"
   ]
  },
  {
   "cell_type": "code",
   "execution_count": 117,
   "id": "4027195e",
   "metadata": {},
   "outputs": [
    {
     "data": {
      "text/plain": [
       "array([[1, 2, 3],\n",
       "       [4, 5, 6]])"
      ]
     },
     "execution_count": 117,
     "metadata": {},
     "output_type": "execute_result"
    }
   ],
   "source": [
    "num_ints = num_strings.astype(arrint.dtype)\n",
    "num_ints"
   ]
  },
  {
   "cell_type": "markdown",
   "id": "323acafb",
   "metadata": {},
   "source": [
    "**Artithmetic with Numpy Arrays**"
   ]
  },
  {
   "cell_type": "code",
   "execution_count": 120,
   "id": "a128a12e",
   "metadata": {},
   "outputs": [
    {
     "data": {
      "text/plain": [
       "array([1., 2., 3.])"
      ]
     },
     "execution_count": 120,
     "metadata": {},
     "output_type": "execute_result"
    }
   ],
   "source": [
    "arr1"
   ]
  },
  {
   "cell_type": "markdown",
   "id": "9d0abc8d",
   "metadata": {},
   "source": [
    "Arrays are important because they are able to use *vectorization*, which is when an operation is just done to all elements at once, instead of using a for loop to do the operation to each individual element. "
   ]
  },
  {
   "cell_type": "code",
   "execution_count": 119,
   "id": "8f99098a",
   "metadata": {},
   "outputs": [
    {
     "data": {
      "text/plain": [
       "array([1., 4., 9.])"
      ]
     },
     "execution_count": 119,
     "metadata": {},
     "output_type": "execute_result"
    }
   ],
   "source": [
    "arr1 * arr1"
   ]
  },
  {
   "cell_type": "code",
   "execution_count": 122,
   "id": "e375d3c4",
   "metadata": {},
   "outputs": [
    {
     "data": {
      "text/plain": [
       "array([2., 4., 6.])"
      ]
     },
     "execution_count": 122,
     "metadata": {},
     "output_type": "execute_result"
    }
   ],
   "source": [
    "arr1*2"
   ]
  },
  {
   "cell_type": "markdown",
   "id": "e5a3c91f",
   "metadata": {},
   "source": [
    "Comparing 2 arrays of the same size will return a boolean array"
   ]
  },
  {
   "cell_type": "code",
   "execution_count": 124,
   "id": "ebcc8042",
   "metadata": {},
   "outputs": [
    {
     "data": {
      "text/plain": [
       "array([False,  True, False])"
      ]
     },
     "execution_count": 124,
     "metadata": {},
     "output_type": "execute_result"
    }
   ],
   "source": [
    "arr = np.array([1, 4, 3])\n",
    "arr1 = np.array([2, 3, 6])\n",
    "arr > arr1"
   ]
  },
  {
   "cell_type": "markdown",
   "id": "efbef2d8",
   "metadata": {},
   "source": [
    "**Basic Indexing and Slicing**"
   ]
  },
  {
   "cell_type": "markdown",
   "id": "e2ec068b",
   "metadata": {},
   "source": [
    "One-dimensional arrays can be indexed like a normal python list"
   ]
  },
  {
   "cell_type": "code",
   "execution_count": 125,
   "id": "e86875e7",
   "metadata": {},
   "outputs": [],
   "source": [
    "arr = np.arange(10)"
   ]
  },
  {
   "cell_type": "code",
   "execution_count": 126,
   "id": "5f3a851b",
   "metadata": {},
   "outputs": [
    {
     "data": {
      "text/plain": [
       "array([0, 1, 2, 3, 4, 5, 6, 7, 8, 9])"
      ]
     },
     "execution_count": 126,
     "metadata": {},
     "output_type": "execute_result"
    }
   ],
   "source": [
    "arr"
   ]
  },
  {
   "cell_type": "code",
   "execution_count": 127,
   "id": "d3ebed54",
   "metadata": {},
   "outputs": [
    {
     "data": {
      "text/plain": [
       "5"
      ]
     },
     "execution_count": 127,
     "metadata": {},
     "output_type": "execute_result"
    }
   ],
   "source": [
    "arr[5]"
   ]
  },
  {
   "cell_type": "markdown",
   "id": "f98563de",
   "metadata": {},
   "source": [
    "You can use slicing to assign values in an array"
   ]
  },
  {
   "cell_type": "code",
   "execution_count": 130,
   "id": "d8ac8c0f",
   "metadata": {},
   "outputs": [],
   "source": [
    "arr[5:8] = 67"
   ]
  },
  {
   "cell_type": "code",
   "execution_count": 131,
   "id": "c1cb63f2",
   "metadata": {},
   "outputs": [
    {
     "data": {
      "text/plain": [
       "array([ 0,  1,  2,  3,  4, 67, 67, 67,  8,  9])"
      ]
     },
     "execution_count": 131,
     "metadata": {},
     "output_type": "execute_result"
    }
   ],
   "source": [
    "arr"
   ]
  },
  {
   "cell_type": "markdown",
   "id": "05e37976",
   "metadata": {},
   "source": [
    "You can create *slices* of an array, and the changes you make to the slice will be reflected in the original array"
   ]
  },
  {
   "cell_type": "code",
   "execution_count": 132,
   "id": "9ae48c88",
   "metadata": {},
   "outputs": [
    {
     "data": {
      "text/plain": [
       "array([ 0,  1,  2,  3,  4, 76, 76, 76,  8,  9])"
      ]
     },
     "execution_count": 132,
     "metadata": {},
     "output_type": "execute_result"
    }
   ],
   "source": [
    "arr_slice = arr[5:8]\n",
    "arr_slice[:] = 76\n",
    "arr"
   ]
  },
  {
   "cell_type": "markdown",
   "id": "7137a2eb",
   "metadata": {},
   "source": [
    "With multidimensional arrays, the elements at indexes turn into their own lists"
   ]
  },
  {
   "cell_type": "code",
   "execution_count": 134,
   "id": "99c98fdb",
   "metadata": {},
   "outputs": [
    {
     "data": {
      "text/plain": [
       "array([7, 8, 9])"
      ]
     },
     "execution_count": 134,
     "metadata": {},
     "output_type": "execute_result"
    }
   ],
   "source": [
    "arr2d = np.array([[1, 2, 3], [4, 5, 6], [7, 8, 9]])\n",
    "arr2d[2]"
   ]
  },
  {
   "cell_type": "markdown",
   "id": "d1a6e343",
   "metadata": {},
   "source": [
    "You can pass a comma-separated list to select the elements inside the nested list, or you can use multiple one-element lists"
   ]
  },
  {
   "cell_type": "code",
   "execution_count": 135,
   "id": "5cce6384",
   "metadata": {},
   "outputs": [
    {
     "data": {
      "text/plain": [
       "9"
      ]
     },
     "execution_count": 135,
     "metadata": {},
     "output_type": "execute_result"
    }
   ],
   "source": [
    "arr2d[2, 2]"
   ]
  },
  {
   "cell_type": "code",
   "execution_count": 136,
   "id": "c7d288ae",
   "metadata": {},
   "outputs": [
    {
     "data": {
      "text/plain": [
       "9"
      ]
     },
     "execution_count": 136,
     "metadata": {},
     "output_type": "execute_result"
    }
   ],
   "source": [
    "arr2d[2][2]"
   ]
  },
  {
   "cell_type": "markdown",
   "id": "d976f865",
   "metadata": {},
   "source": [
    "**Indexing with Slices**"
   ]
  },
  {
   "cell_type": "code",
   "execution_count": 138,
   "id": "9238b4f2",
   "metadata": {},
   "outputs": [
    {
     "data": {
      "text/plain": [
       "array([ 0,  1,  2,  3,  4, 76, 76, 76,  8,  9])"
      ]
     },
     "execution_count": 138,
     "metadata": {},
     "output_type": "execute_result"
    }
   ],
   "source": [
    "arr"
   ]
  },
  {
   "cell_type": "code",
   "execution_count": 141,
   "id": "5f674229",
   "metadata": {},
   "outputs": [
    {
     "data": {
      "text/plain": [
       "array([0, 1])"
      ]
     },
     "execution_count": 141,
     "metadata": {},
     "output_type": "execute_result"
    }
   ],
   "source": [
    "arr[:2]"
   ]
  },
  {
   "cell_type": "markdown",
   "id": "575c7615",
   "metadata": {},
   "source": [
    "Indexing through our 2d array is a little different"
   ]
  },
  {
   "cell_type": "code",
   "execution_count": 139,
   "id": "161883e0",
   "metadata": {},
   "outputs": [
    {
     "data": {
      "text/plain": [
       "array([[1, 2, 3],\n",
       "       [4, 5, 6],\n",
       "       [7, 8, 9]])"
      ]
     },
     "execution_count": 139,
     "metadata": {},
     "output_type": "execute_result"
    }
   ],
   "source": [
    "arr2d"
   ]
  },
  {
   "cell_type": "code",
   "execution_count": 142,
   "id": "57a2a887",
   "metadata": {},
   "outputs": [
    {
     "data": {
      "text/plain": [
       "array([[1, 2, 3],\n",
       "       [4, 5, 6]])"
      ]
     },
     "execution_count": 142,
     "metadata": {},
     "output_type": "execute_result"
    }
   ],
   "source": [
    "arr2d[:2]"
   ]
  }
 ],
 "metadata": {
  "kernelspec": {
   "display_name": "Python 3",
   "language": "python",
   "name": "python3"
  },
  "language_info": {
   "codemirror_mode": {
    "name": "ipython",
    "version": 3
   },
   "file_extension": ".py",
   "mimetype": "text/x-python",
   "name": "python",
   "nbconvert_exporter": "python",
   "pygments_lexer": "ipython3",
   "version": "3.10.0"
  }
 },
 "nbformat": 4,
 "nbformat_minor": 5
}
