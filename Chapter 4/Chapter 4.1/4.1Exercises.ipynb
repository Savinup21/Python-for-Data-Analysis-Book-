{
 "cells": [
  {
   "cell_type": "markdown",
   "id": "c4e0f080",
   "metadata": {},
   "source": [
    "**Exercise 1: Import NumPy as np and create a 1D NumPy array with values from 0 to 9.**"
   ]
  },
  {
   "cell_type": "code",
   "execution_count": 2,
   "id": "6d7c8e0d",
   "metadata": {},
   "outputs": [
    {
     "data": {
      "text/plain": [
       "array([0, 1, 2, 3, 4, 5, 6, 7, 8, 9])"
      ]
     },
     "execution_count": 2,
     "metadata": {},
     "output_type": "execute_result"
    }
   ],
   "source": [
    "import numpy as np\n",
    "array1d = np.arange(10)\n",
    "array1d"
   ]
  },
  {
   "cell_type": "markdown",
   "id": "fe97ae40",
   "metadata": {},
   "source": [
    "**Exercise 2: Create a 2D NumPy array of shape (3, 3) filled with ones.**"
   ]
  },
  {
   "cell_type": "code",
   "execution_count": 4,
   "id": "233c0190",
   "metadata": {},
   "outputs": [
    {
     "data": {
      "text/plain": [
       "array([[1., 1., 1.],\n",
       "       [1., 1., 1.],\n",
       "       [1., 1., 1.]])"
      ]
     },
     "execution_count": 4,
     "metadata": {},
     "output_type": "execute_result"
    }
   ],
   "source": [
    "onesarray = np.ones((3, 3))\n",
    "onesarray"
   ]
  },
  {
   "cell_type": "code",
   "execution_count": 5,
   "id": "c7783f17",
   "metadata": {},
   "outputs": [
    {
     "data": {
      "text/plain": [
       "(3, 3)"
      ]
     },
     "execution_count": 5,
     "metadata": {},
     "output_type": "execute_result"
    }
   ],
   "source": [
    "onesarray.shape"
   ]
  },
  {
   "cell_type": "markdown",
   "id": "9c2805d8",
   "metadata": {},
   "source": [
    "**Exercise 3: Create a NumPy array with values from 0 to 20, step 2.**"
   ]
  },
  {
   "cell_type": "code",
   "execution_count": 7,
   "id": "df679133",
   "metadata": {},
   "outputs": [
    {
     "data": {
      "text/plain": [
       "array([ 0,  2,  4,  6,  8, 10, 12, 14, 16, 18, 20])"
      ]
     },
     "execution_count": 7,
     "metadata": {},
     "output_type": "execute_result"
    }
   ],
   "source": [
    "zeroto20 = np.arange(21, step=2)\n",
    "zeroto20"
   ]
  },
  {
   "cell_type": "markdown",
   "id": "2257f2a6",
   "metadata": {},
   "source": [
    "**Exercise 4: Create a NumPy array of 5 random numbers between 0 and 1 using np.random.rand().**"
   ]
  },
  {
   "cell_type": "code",
   "execution_count": 9,
   "id": "bb4b130f",
   "metadata": {},
   "outputs": [
    {
     "data": {
      "text/plain": [
       "array([0.99217268, 0.6855996 , 0.50967108, 0.97557169, 0.8213849 ])"
      ]
     },
     "execution_count": 9,
     "metadata": {},
     "output_type": "execute_result"
    }
   ],
   "source": [
    "rands = np.random.rand(5)\n",
    "rands"
   ]
  },
  {
   "cell_type": "markdown",
   "id": "06af8a43",
   "metadata": {},
   "source": [
    "**Exercise 5: Create a 4x4 identity matrix using np.eye().**"
   ]
  },
  {
   "cell_type": "code",
   "execution_count": 10,
   "id": "d4e93743",
   "metadata": {},
   "outputs": [
    {
     "data": {
      "text/plain": [
       "array([[1, 0, 0, 0],\n",
       "       [0, 1, 0, 0],\n",
       "       [0, 0, 1, 0],\n",
       "       [0, 0, 0, 1]])"
      ]
     },
     "execution_count": 10,
     "metadata": {},
     "output_type": "execute_result"
    }
   ],
   "source": [
    "idenmatrix = np.eye(4, 4, dtype=np.int32)\n",
    "idenmatrix"
   ]
  },
  {
   "cell_type": "markdown",
   "id": "0e7d80e0",
   "metadata": {},
   "source": [
    "**Exercise 6: Given arr = np.array([1, 2, 3, 4, 5]), multiply every element by 2 using vectorized operations.**"
   ]
  },
  {
   "cell_type": "code",
   "execution_count": 11,
   "id": "0f93b530",
   "metadata": {},
   "outputs": [
    {
     "data": {
      "text/plain": [
       "array([ 2,  4,  6,  8, 10])"
      ]
     },
     "execution_count": 11,
     "metadata": {},
     "output_type": "execute_result"
    }
   ],
   "source": [
    "arr = np.array([1, 2, 3, 4, 5])\n",
    "arr * 2"
   ]
  },
  {
   "cell_type": "markdown",
   "id": "c493dcb9",
   "metadata": {},
   "source": [
    "**Exercise 7: Create an array with 10 equally spaced numbers between 0 and 5 using np.linspace().**"
   ]
  },
  {
   "cell_type": "code",
   "execution_count": 14,
   "id": "2093528b",
   "metadata": {},
   "outputs": [
    {
     "data": {
      "text/plain": [
       "array([0.        , 0.55555556, 1.11111111, 1.66666667, 2.22222222,\n",
       "       2.77777778, 3.33333333, 3.88888889, 4.44444444, 5.        ])"
      ]
     },
     "execution_count": 14,
     "metadata": {},
     "output_type": "execute_result"
    }
   ],
   "source": [
    "spaced_array = np.linspace(0, 5, num = 10)\n",
    "spaced_array"
   ]
  },
  {
   "cell_type": "markdown",
   "id": "23dee3cf",
   "metadata": {},
   "source": [
    "**Exercise 8: Given a 2D array, print its shape, size, and data type.**"
   ]
  },
  {
   "cell_type": "code",
   "execution_count": 15,
   "id": "783ec444",
   "metadata": {},
   "outputs": [
    {
     "data": {
      "text/plain": [
       "(2, 5)"
      ]
     },
     "execution_count": 15,
     "metadata": {},
     "output_type": "execute_result"
    }
   ],
   "source": [
    "arr = np.array([[1, 2, 3, 4, 5], [6, 7, 8, 9, 10]])\n",
    "arr.shape"
   ]
  },
  {
   "cell_type": "code",
   "execution_count": 16,
   "id": "b3c3f608",
   "metadata": {},
   "outputs": [
    {
     "data": {
      "text/plain": [
       "10"
      ]
     },
     "execution_count": 16,
     "metadata": {},
     "output_type": "execute_result"
    }
   ],
   "source": [
    "arr.size"
   ]
  },
  {
   "cell_type": "code",
   "execution_count": 17,
   "id": "1a713f02",
   "metadata": {},
   "outputs": [
    {
     "data": {
      "text/plain": [
       "dtype('int32')"
      ]
     },
     "execution_count": 17,
     "metadata": {},
     "output_type": "execute_result"
    }
   ],
   "source": [
    "arr.dtype"
   ]
  },
  {
   "cell_type": "markdown",
   "id": "ad504dd1",
   "metadata": {},
   "source": [
    "**Exercise 9: Create an array of 10 random integers between 1 and 100 using np.random.randint().**"
   ]
  },
  {
   "cell_type": "code",
   "execution_count": 19,
   "id": "7074193c",
   "metadata": {},
   "outputs": [
    {
     "data": {
      "text/plain": [
       "array([72,  6, 34, 81, 44, 84, 38, 58, 49, 78])"
      ]
     },
     "execution_count": 19,
     "metadata": {},
     "output_type": "execute_result"
    }
   ],
   "source": [
    "rands10 = np.random.randint(1, 100, dtype=np.int32, size=10)\n",
    "rands10"
   ]
  },
  {
   "cell_type": "markdown",
   "id": "c8da1538",
   "metadata": {},
   "source": [
    "**Exercise 10: Reshape a 1D array of size 12 into a 3x4 2D array.**"
   ]
  },
  {
   "cell_type": "code",
   "execution_count": 22,
   "id": "77a3f297",
   "metadata": {},
   "outputs": [
    {
     "data": {
      "text/plain": [
       "array([ 0,  1,  2,  3,  4,  5,  6,  7,  8,  9, 10, 11])"
      ]
     },
     "execution_count": 22,
     "metadata": {},
     "output_type": "execute_result"
    }
   ],
   "source": [
    "arr = np.arange(12)\n",
    "arr"
   ]
  },
  {
   "cell_type": "code",
   "execution_count": 23,
   "id": "f9f7b490",
   "metadata": {},
   "outputs": [
    {
     "data": {
      "text/plain": [
       "array([[ 0,  1,  2,  3],\n",
       "       [ 4,  5,  6,  7],\n",
       "       [ 8,  9, 10, 11]])"
      ]
     },
     "execution_count": 23,
     "metadata": {},
     "output_type": "execute_result"
    }
   ],
   "source": [
    "arr.reshape((3, 4))"
   ]
  }
 ],
 "metadata": {
  "kernelspec": {
   "display_name": "Python 3",
   "language": "python",
   "name": "python3"
  },
  "language_info": {
   "codemirror_mode": {
    "name": "ipython",
    "version": 3
   },
   "file_extension": ".py",
   "mimetype": "text/x-python",
   "name": "python",
   "nbconvert_exporter": "python",
   "pygments_lexer": "ipython3",
   "version": "3.10.0"
  }
 },
 "nbformat": 4,
 "nbformat_minor": 5
}
