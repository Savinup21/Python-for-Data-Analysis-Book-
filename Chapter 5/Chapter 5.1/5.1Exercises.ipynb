{
 "cells": [
  {
   "cell_type": "code",
   "execution_count": 2,
   "id": "15d2901b",
   "metadata": {},
   "outputs": [],
   "source": [
    "import pandas as pd"
   ]
  },
  {
   "cell_type": "markdown",
   "id": "e13a95af",
   "metadata": {},
   "source": [
    "**Exercise 1: Create a pandas Series from a Python list [10, 20, 30, 40] and print it.**"
   ]
  },
  {
   "cell_type": "code",
   "execution_count": 3,
   "id": "8b2cf51f",
   "metadata": {},
   "outputs": [
    {
     "data": {
      "text/plain": [
       "0    10\n",
       "1    20\n",
       "2    30\n",
       "3    40\n",
       "dtype: int64"
      ]
     },
     "execution_count": 3,
     "metadata": {},
     "output_type": "execute_result"
    }
   ],
   "source": [
    "list1 = [10, 20, 30, 40]\n",
    "series1 = pd.Series(list1)\n",
    "series1"
   ]
  },
  {
   "cell_type": "markdown",
   "id": "edc1e9c9",
   "metadata": {},
   "source": [
    "Exercise 2: Create a pandas Series with custom index labels ['a', 'b', 'c', 'd'] for values [10, 20, 30, 40]."
   ]
  },
  {
   "cell_type": "code",
   "execution_count": 4,
   "id": "3a2284c6",
   "metadata": {},
   "outputs": [
    {
     "data": {
      "text/plain": [
       "a    10\n",
       "b    20\n",
       "c    30\n",
       "d    40\n",
       "dtype: int64"
      ]
     },
     "execution_count": 4,
     "metadata": {},
     "output_type": "execute_result"
    }
   ],
   "source": [
    "series2 = pd.Series(list1, index=['a', 'b', 'c', 'd'])\n",
    "series2"
   ]
  },
  {
   "cell_type": "markdown",
   "id": "6c43e16c",
   "metadata": {},
   "source": [
    "**Exercise 3. Given a Series s = pd.Series([5, 10, 15, 20], index=['w', 'x', 'y', 'z']), select the value associated with index 'y'.**"
   ]
  },
  {
   "cell_type": "code",
   "execution_count": 5,
   "id": "8f1ac5e6",
   "metadata": {},
   "outputs": [
    {
     "data": {
      "text/plain": [
       "15"
      ]
     },
     "execution_count": 5,
     "metadata": {},
     "output_type": "execute_result"
    }
   ],
   "source": [
    "s = pd.Series([5, 10, 15, 20], index=['w', 'x', 'y', 'z'])\n",
    "val = s['y']\n",
    "val"
   ]
  },
  {
   "cell_type": "markdown",
   "id": "706ef46b",
   "metadata": {},
   "source": [
    "**Exercise 4. Using the same Series s, select all values greater than 10.**"
   ]
  },
  {
   "cell_type": "code",
   "execution_count": 7,
   "id": "fd32a7ef",
   "metadata": {},
   "outputs": [
    {
     "data": {
      "text/plain": [
       "y    15\n",
       "z    20\n",
       "dtype: int64"
      ]
     },
     "execution_count": 7,
     "metadata": {},
     "output_type": "execute_result"
    }
   ],
   "source": [
    "greater = s[s > 10]\n",
    "greater"
   ]
  },
  {
   "cell_type": "markdown",
   "id": "5a80db53",
   "metadata": {},
   "source": [
    "**Exercise 5. Create a Series from a dictionary: data = {'apples': 3, 'bananas': 5, 'oranges': 2} and print the number of apples.**"
   ]
  },
  {
   "cell_type": "code",
   "execution_count": 9,
   "id": "85a7faa6",
   "metadata": {},
   "outputs": [
    {
     "data": {
      "text/plain": [
       "3"
      ]
     },
     "execution_count": 9,
     "metadata": {},
     "output_type": "execute_result"
    }
   ],
   "source": [
    "data = {'apples': 3, 'bananas': 5, 'oranges': 2}\n",
    "dictseries = pd.Series(data)\n",
    "apples = dictseries.apples\n",
    "apples"
   ]
  },
  {
   "cell_type": "markdown",
   "id": "de87970d",
   "metadata": {},
   "source": [
    "**Exercise 6. Given a Series of temperatures: pd.Series([72, 75, 68, 70], index=['Mon', 'Tue', 'Wed', 'Thu']), change the temperature for 'Wed' to 71.**"
   ]
  },
  {
   "cell_type": "code",
   "execution_count": 10,
   "id": "ff790425",
   "metadata": {},
   "outputs": [
    {
     "data": {
      "text/plain": [
       "Mon    72\n",
       "Tue    75\n",
       "Wed    71\n",
       "Thu    70\n",
       "dtype: int64"
      ]
     },
     "execution_count": 10,
     "metadata": {},
     "output_type": "execute_result"
    }
   ],
   "source": [
    "temps = pd.Series([72, 75, 68, 70], index=['Mon', 'Tue', 'Wed', 'Thu'])\n",
    "temps.Wed = 71\n",
    "temps"
   ]
  },
  {
   "cell_type": "code",
   "execution_count": 11,
   "id": "4bc5a5ef",
   "metadata": {},
   "outputs": [],
   "source": [
    "import numpy as np"
   ]
  },
  {
   "cell_type": "markdown",
   "id": "5542712c",
   "metadata": {},
   "source": [
    "**Exercise 7. Create a Series with NaN values and use isnull() and notnull() to identify missing data.**"
   ]
  },
  {
   "cell_type": "code",
   "execution_count": 12,
   "id": "c80112bf",
   "metadata": {},
   "outputs": [
    {
     "data": {
      "text/plain": [
       "Mon     True\n",
       "Tue    False\n",
       "Wed    False\n",
       "Thu     True\n",
       "dtype: bool"
      ]
     },
     "execution_count": 12,
     "metadata": {},
     "output_type": "execute_result"
    }
   ],
   "source": [
    "temps = pd.Series([np.nan, 75, 68, np.nan], index=['Mon', 'Tue', 'Wed', 'Thu'])\n",
    "temps.isnull()"
   ]
  },
  {
   "cell_type": "code",
   "execution_count": 13,
   "id": "0b14e89e",
   "metadata": {},
   "outputs": [
    {
     "data": {
      "text/plain": [
       "Mon    False\n",
       "Tue     True\n",
       "Wed     True\n",
       "Thu    False\n",
       "dtype: bool"
      ]
     },
     "execution_count": 13,
     "metadata": {},
     "output_type": "execute_result"
    }
   ],
   "source": [
    "temps.notnull()"
   ]
  },
  {
   "cell_type": "markdown",
   "id": "79a670f7",
   "metadata": {},
   "source": [
    "**Exercise 8: Create a Series from a NumPy array of 5 random integers between 1 and 100.**"
   ]
  },
  {
   "cell_type": "code",
   "execution_count": 14,
   "id": "378c802b",
   "metadata": {},
   "outputs": [
    {
     "data": {
      "text/plain": [
       "0    22\n",
       "1    28\n",
       "2    12\n",
       "3    54\n",
       "4    46\n",
       "dtype: int32"
      ]
     },
     "execution_count": 14,
     "metadata": {},
     "output_type": "execute_result"
    }
   ],
   "source": [
    "rands = np.random.randint(1, 100, 5)\n",
    "randseries = pd.Series(rands)\n",
    "randseries"
   ]
  },
  {
   "cell_type": "markdown",
   "id": "681812a9",
   "metadata": {},
   "source": [
    "**Exercise 9. Given a Series s = pd.Series([1, 2, 3, 4], index=['a', 'b', 'c', 'd']), multiply all values by 10.**"
   ]
  },
  {
   "cell_type": "code",
   "execution_count": 15,
   "id": "fed61975",
   "metadata": {},
   "outputs": [
    {
     "data": {
      "text/plain": [
       "a    10\n",
       "b    20\n",
       "c    30\n",
       "d    40\n",
       "dtype: int64"
      ]
     },
     "execution_count": 15,
     "metadata": {},
     "output_type": "execute_result"
    }
   ],
   "source": [
    "s = pd.Series([1, 2, 3, 4], index=['a', 'b', 'c', 'd'])\n",
    "s * 10"
   ]
  },
  {
   "cell_type": "markdown",
   "id": "4b01ad34",
   "metadata": {},
   "source": [
    "**Exercise 10. Create two Series with overlapping and non-overlapping indices and add them together. Observe how pandas handles missing values in the result.**"
   ]
  },
  {
   "cell_type": "code",
   "execution_count": 16,
   "id": "5bb2c837",
   "metadata": {},
   "outputs": [
    {
     "data": {
      "text/plain": [
       "a     NaN\n",
       "b    25.0\n",
       "c    45.0\n",
       "d     NaN\n",
       "dtype: float64"
      ]
     },
     "execution_count": 16,
     "metadata": {},
     "output_type": "execute_result"
    }
   ],
   "source": [
    "s1 = pd.Series([10, 20, 30], index=['a', 'b', 'c'])\n",
    "s2 = pd.Series([5, 15, 25], index=['b', 'c', 'd'])\n",
    "\n",
    "s1 + s2\n"
   ]
  },
  {
   "cell_type": "markdown",
   "id": "1fb4d8da",
   "metadata": {},
   "source": [
    "There is no 'a' value from s2 to add to s1, so that ends up with a nan value, and this is the same with s2's 'd' index"
   ]
  }
 ],
 "metadata": {
  "kernelspec": {
   "display_name": "Python 3",
   "language": "python",
   "name": "python3"
  },
  "language_info": {
   "codemirror_mode": {
    "name": "ipython",
    "version": 3
   },
   "file_extension": ".py",
   "mimetype": "text/x-python",
   "name": "python",
   "nbconvert_exporter": "python",
   "pygments_lexer": "ipython3",
   "version": "3.10.0"
  }
 },
 "nbformat": 4,
 "nbformat_minor": 5
}
